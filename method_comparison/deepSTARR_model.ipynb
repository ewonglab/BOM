{
 "cells": [
  {
   "cell_type": "markdown",
   "metadata": {},
   "source": [
    "# Train a DeepSTARR model for 17 cell type specific enhancers (from mouse embryo E8.25)\n",
    "#### Following codes in this notebook were run under pip python environments : 'source /g/data/zk16/caitlin/enhancer-env/bin/activate'\n",
    "#### Please 'moduel load python3/3.9.2'"
   ]
  },
  {
   "cell_type": "markdown",
   "metadata": {},
   "source": [
    "#### Loading necessary packages"
   ]
  },
  {
   "cell_type": "code",
   "execution_count": 1,
   "metadata": {},
   "outputs": [
    {
     "name": "stderr",
     "output_type": "stream",
     "text": [
      "2023-03-10 14:23:33.225681: I tensorflow/core/platform/cpu_feature_guard.cc:193] This TensorFlow binary is optimized with oneAPI Deep Neural Network Library (oneDNN) to use the following CPU instructions in performance-critical operations:  AVX2 FMA\n",
      "To enable them in other operations, rebuild TensorFlow with the appropriate compiler flags.\n",
      "2023-03-10 14:23:33.457643: W tensorflow/stream_executor/platform/default/dso_loader.cc:64] Could not load dynamic library 'libcudart.so.11.0'; dlerror: libcudart.so.11.0: cannot open shared object file: No such file or directory; LD_LIBRARY_PATH: /apps/intel-ct/2020.3.304/mkl/lib/intel64:/apps/python3/3.9.2/lib\n",
      "2023-03-10 14:23:33.457689: I tensorflow/stream_executor/cuda/cudart_stub.cc:29] Ignore above cudart dlerror if you do not have a GPU set up on your machine.\n",
      "2023-03-10 14:23:33.487621: E tensorflow/stream_executor/cuda/cuda_blas.cc:2981] Unable to register cuBLAS factory: Attempting to register factory for plugin cuBLAS when one has already been registered\n",
      "2023-03-10 14:23:36.129127: W tensorflow/stream_executor/platform/default/dso_loader.cc:64] Could not load dynamic library 'libnvinfer.so.7'; dlerror: libnvinfer.so.7: cannot open shared object file: No such file or directory; LD_LIBRARY_PATH: /apps/intel-ct/2020.3.304/mkl/lib/intel64:/apps/python3/3.9.2/lib\n",
      "2023-03-10 14:23:36.130738: W tensorflow/stream_executor/platform/default/dso_loader.cc:64] Could not load dynamic library 'libnvinfer_plugin.so.7'; dlerror: libnvinfer_plugin.so.7: cannot open shared object file: No such file or directory; LD_LIBRARY_PATH: /apps/intel-ct/2020.3.304/mkl/lib/intel64:/apps/python3/3.9.2/lib\n",
      "2023-03-10 14:23:36.130752: W tensorflow/compiler/tf2tensorrt/utils/py_utils.cc:38] TF-TRT Warning: Cannot dlopen some TensorRT libraries. If you would like to use Nvidia GPU with TensorRT, please make sure the missing libraries mentioned above are installed properly.\n"
     ]
    }
   ],
   "source": [
    "import sys\n",
    "import optparse\n",
    "from array import *\n",
    "import seaborn as sns\n",
    "import pandas as pd\n",
    "\n",
    "import tensorflow as tf\n",
    "tf.random.set_seed(1)\n",
    "\n",
    "import numpy as np\n",
    "\n",
    "from Bio import SeqIO\n",
    "from Bio.Seq import Seq\n",
    "from Bio.SeqRecord import SeqRecord\n",
    "\n",
    "import matplotlib\n",
    "#matplotlib.use('pdf')\n",
    "import matplotlib.pyplot as plt\n",
    "\n",
    "import sklearn\n",
    "from sklearn.utils import class_weight, shuffle\n",
    "from sklearn.model_selection import train_test_split\n",
    "from sklearn.metrics import average_precision_score, roc_auc_score, f1_score, recall_score, roc_curve\n",
    "\n",
    "# confusion_matrix, plot_confusion_matrix, roc_curve, roc_auc_score, precision_recall_curve, auc\n",
    "\n",
    "from tensorflow.keras.models import Sequential, Model\n",
    "from tensorflow.keras.models import model_from_json\n",
    "from tensorflow.keras.layers import Dense, Dropout, Activation, Flatten, Conv1D, MaxPooling1D, Bidirectional, Concatenate, PReLU, Bidirectional, TimeDistributed, LSTM, Layer, average, Input, BatchNormalization\n",
    "from keras import optimizers\n",
    "from tensorflow.keras.optimizers import RMSprop, Adam\n",
    "from tensorflow.keras.callbacks import ModelCheckpoint, EarlyStopping\n",
    "from keras import regularizers"
   ]
  },
  {
   "cell_type": "markdown",
   "metadata": {},
   "source": [
    "#### Defining necessary functitons"
   ]
  },
  {
   "cell_type": "code",
   "execution_count": 2,
   "metadata": {},
   "outputs": [],
   "source": [
    "def get_output(input_layer, hidden_layers):\n",
    "    output = input_layer\n",
    "    for hidden_layer in hidden_layers: \n",
    "        output = hidden_layer(output)\n",
    "    return output\n",
    "\n",
    "\n",
    "# DeepSTARR architecture: 4 CNN + 2 Dense\n",
    "def build_model():\n",
    "    forward_input = Input(shape=seq_shape)\n",
    "    reverse_input = Input(shape=seq_shape)\n",
    "    \n",
    "    # DeepSTARR architecture\n",
    "    hidden_layers = [\n",
    "        \n",
    "        #---- 4 conv layers -----\n",
    "        # 1st convolutional layer\n",
    "        Conv1D(256, kernel_size=7, padding=\"same\", activation='relu', name='Conv1D_1st'),\n",
    "        BatchNormalization(),\n",
    "        MaxPooling1D(2),\n",
    "\n",
    "        # 2 nd convolutional layer\n",
    "        Conv1D(60, kernel_size=3, padding=\"same\",activation='relu', name='Conv1D_2nd'),\n",
    "        BatchNormalization(),\n",
    "        MaxPooling1D(pool_size=2),\n",
    "        \n",
    "        # 3rd convolutional layer\n",
    "        Conv1D(60, kernel_size=5, padding=\"same\",activation='relu', name='Conv1D_3rt'),\n",
    "        BatchNormalization(),\n",
    "        MaxPooling1D(pool_size=2),\n",
    "        \n",
    "        # 4st convolutional layer\n",
    "        Conv1D(120, kernel_size=3, padding=\"same\", activation='relu',name='Conv1D_4st'),\n",
    "        BatchNormalization(),\n",
    "        MaxPooling1D(pool_size=2),\n",
    "        \n",
    "        Flatten(),\n",
    "        \n",
    "        #---- 2 Dense layers -----\n",
    "        Dense(256, name='Dense_1nd'),\n",
    "        BatchNormalization(),  \n",
    "        Activation('relu'),\n",
    "        Dropout(0.4),\n",
    "        \n",
    "        Dense(256, name='Dense_2nd'),\n",
    "        BatchNormalization(),  \n",
    "        Activation('relu'),\n",
    "        Dropout(0.4),\n",
    "        \n",
    "        Dense(len(selected_classes), activation='sigmoid')]    \n",
    "    \n",
    "    forward_output = get_output(forward_input, hidden_layers)     \n",
    "    reverse_output = get_output(reverse_input, hidden_layers)\n",
    "    output = average([forward_output, reverse_output])\n",
    "    # model = Model([forward_input, reverse_input], output)\n",
    "    model = Model(inputs=[forward_input, reverse_input], outputs=output)\n",
    "    model.summary()\n",
    "    optimizer = Adam(learning_rate=0.002)\n",
    "    model.compile(optimizer=optimizer, loss='binary_crossentropy', metrics=['accuracy'])\n",
    "    return model\n",
    "   \n",
    "#input: fasta file (>seqid_topicsid)\n",
    "def readfile(filename):\n",
    "    ids = []\n",
    "    ids_d = {}\n",
    "    seqs = {}\n",
    "    classes = {}\n",
    "    f = open(filename, 'r')\n",
    "    lines = f.readlines()\n",
    "    f.close()\n",
    "    seq = []\n",
    "    for line in lines:\n",
    "        if line[0] == '>':\n",
    "            ids.append(line[1:].rstrip('\\n'))\n",
    "            if line[1:].rstrip('\\n').split('_')[0] not in seqs:\n",
    "                seqs[line[1:].rstrip('\\n').split('_')[0]] = []\n",
    "            if line[1:].rstrip('\\n').split('_')[0] not in ids_d:\n",
    "                ids_d[line[1:].rstrip('\\n').split('_')[0]] = line[1:].rstrip('\\n').split('_')[0]\n",
    "            if line[1:].rstrip('\\n').split('_')[0] not in classes:\n",
    "                classes[line[1:].rstrip('\\n').split('_')[0]] = np.zeros(NUM_CLASSES)\n",
    "            classes[line[1:].rstrip('\\n').split('_')[0]][int(line[1:].rstrip('\\n').split('_')[1])-1] = 1        \n",
    "            if seq != []: seqs[ids[-2].split('_')[0]]= (\"\".join(seq))\n",
    "            seq = []\n",
    "        else:\n",
    "            seq.append(line.rstrip('\\n').upper())\n",
    "    if seq != []:\n",
    "        seqs[ids[-1].split('_')[0]]=(\"\".join(seq))\n",
    "    return ids,ids_d,seqs,classes\n",
    "\n",
    "def one_hot_encode_along_row_axis(sequence):\n",
    "    to_return = np.zeros((1,len(sequence),4), dtype=np.int8)\n",
    "    seq_to_one_hot_fill_in_array(zeros_array=to_return[0],\n",
    "                                 sequence=sequence, one_hot_axis=1)\n",
    "    return to_return\n",
    "\n",
    "def seq_to_one_hot_fill_in_array(zeros_array, sequence, one_hot_axis):\n",
    "    assert one_hot_axis==0 or one_hot_axis==1\n",
    "    if (one_hot_axis==0):\n",
    "        assert zeros_array.shape[1] == len(sequence)\n",
    "    elif (one_hot_axis==1): \n",
    "        assert zeros_array.shape[0] == len(sequence)\n",
    "    for (i,char) in enumerate(sequence):\n",
    "        if (char==\"A\" or char==\"a\"):\n",
    "            char_idx = 0\n",
    "        elif (char==\"C\" or char==\"c\"):\n",
    "            char_idx = 1\n",
    "        elif (char==\"G\" or char==\"g\"):\n",
    "            char_idx = 2\n",
    "        elif (char==\"T\" or char==\"t\"):\n",
    "            char_idx = 3\n",
    "        elif (char==\"N\" or char==\"n\"):\n",
    "            continue\n",
    "        else:\n",
    "            raise RuntimeError(\"Unsupported character: \"+str(char))\n",
    "        if (one_hot_axis==0):\n",
    "            zeros_array[char_idx,i] = 1\n",
    "        elif (one_hot_axis==1):\n",
    "            zeros_array[i,char_idx] = 1\n",
    "\n",
    "def create_plots(history):\n",
    "    plt.plot(history.history['accuracy'])\n",
    "    plt.plot(history.history['val_accuracy'])\n",
    "    plt.title('model accuracy')\n",
    "    plt.ylabel('accuracy')\n",
    "    plt.xlabel('epoch')\n",
    "    plt.legend(['train', 'test'], loc='upper left')\n",
    "    plt.savefig(foldername + 'accuracy.png')\n",
    "    plt.clf()\n",
    "\n",
    "    plt.plot(history.history['loss'])\n",
    "    plt.plot(history.history['val_loss'])\n",
    "    plt.title('model loss')\n",
    "    plt.ylabel('loss')\n",
    "    plt.xlabel('epoch')\n",
    "    plt.legend(['train', 'test'], loc='upper left')\n",
    "    plt.savefig(foldername + 'loss.png')\n",
    "    plt.clf()\n",
    "    \n",
    "def json_hdf5_to_model(json_filename, hdf5_filename):  \n",
    "    with open(json_filename, 'r') as f:\n",
    "        model = model_from_json(f.read())\n",
    "    model.load_weights(hdf5_filename)\n",
    "    return model\n",
    "\n",
    "def loc_to_model_loss(loc):\n",
    "    return json_hdf5_to_model(loc + 'model.json', loc + 'model_best_loss.hdf5')\n",
    "\n",
    "def shuffle_label(label):\n",
    "    for i in range(len(label.T)):\n",
    "        label.T[i] = shuffle(label.T[i])\n",
    "    return label\n",
    "\n",
    "def calculate_roc_pr(score, label):\n",
    "    output = np.zeros((len(label.T), 2))\n",
    "    for i in range(len(label.T)):\n",
    "        roc_ = roc_auc_score(label.T[i], score.T[i])\n",
    "        pr_ = average_precision_score(label.T[i], score.T[i])\n",
    "        output[i] = [roc_, pr_]\n",
    "    return output"
   ]
  },
  {
   "cell_type": "markdown",
   "metadata": {},
   "source": [
    "#### Preparing the input data"
   ]
  },
  {
   "cell_type": "code",
   "execution_count": 3,
   "metadata": {},
   "outputs": [
    {
     "name": "stdout",
     "output_type": "stream",
     "text": [
      "Prepare input...\n",
      "Prepare finish & Print train/test/val data shape\n",
      "(7173, 500, 4)\n",
      "(2417, 500, 4)\n",
      "(2489, 500, 4)\n"
     ]
    }
   ],
   "source": [
    "# for mouse cell-type specific E8.25 stage (17-cell types)\n",
    "#label order [1-17]: ['allantois_600_val.fa','cardiom_600_val.fa','endothelium_600_val.fa', 'erythroid_600_val.fa', 'exe_endo_600_val.fa', 'forebrain_600_val.fa', 'gut_600_val.fa', 'mesenchyme_600_val.fa', 'mid_hindbrain_600_val.fa', 'mixed_meso_600_val.fa', 'neuralcrest_600_val.fa', 'nmp_600_val.fa', 'paraxial_meso_600_val.fa', 'pharyngeal_meso_600_val.fa', 'somitic_meso_600_val.fa', 'spinalcord_600_val.fa', 'surface_ecto_600_val.fa']\n",
    "# celltypes = ['allantois','cardiom','endothelium', 'erythroid', 'exe_endo', 'forebrain', 'gut', 'mesenchyme', 'mid_hindbrain', 'mixed_meso', 'neuralcrest', 'nmp', 'paraxial_meso', 'pharyngeal_meso', 'somitic_meso', 'spinalcord', 'surface_ecto']\n",
    "\n",
    "NUM_CLASSES = 17\n",
    "selected_classes = np.arange(17)\n",
    "SEQ_LEN = 500\n",
    "SEQ_DIM = 4\n",
    "seq_shape = (SEQ_LEN, SEQ_DIM)\n",
    "\n",
    "\n",
    "foldername = '/g/data/zk16/xzhang/code/models/'\n",
    "train_filename = '/g/data/zk16/xzhang/data/mouse_embryo/e85/paola_split/600_fasta/17_mousecelltype_train.fa'\n",
    "valid_filename = '/g/data/zk16/xzhang/data/mouse_embryo/e85/paola_split/600_fasta/17_mousecelltype_val.fa'\n",
    "test_filename = '/g/data/zk16/xzhang/data/mouse_embryo/e85/paola_split/600_fasta/17_mousecelltype_test.fa'\n",
    "# train_set: 11735; validation_set: 1037; test_set: 1085\n",
    "\n",
    "\n",
    "print(\"Prepare input...\")\n",
    "train_ids, train_ids_d, train_seqs, train_classes = readfile(train_filename)\n",
    "X_train = np.array([one_hot_encode_along_row_axis(train_seqs[id]) for id in train_ids_d]).squeeze(axis=1)\n",
    "y_train = np.array([train_classes[id] for id in train_ids_d])\n",
    "# extract selected_classes\n",
    "y_train = y_train[:,selected_classes]\n",
    "# check non-empty\n",
    "X_train = X_train[y_train.sum(axis=1)>0]\n",
    "y_train = y_train[y_train.sum(axis=1)>0]\n",
    "# reverse_complement seq\n",
    "X_train_rc = X_train[:,::-1,::-1]\n",
    "train_data = [X_train, X_train_rc]\n",
    "\n",
    "valid_ids, valid_ids_d, valid_seqs, valid_classes = readfile(valid_filename)\n",
    "X_valid = np.array([one_hot_encode_along_row_axis(valid_seqs[id]) for id in valid_ids_d]).squeeze(axis=1)\n",
    "y_valid = np.array([valid_classes[id] for id in valid_ids_d])\n",
    "y_valid = y_valid[:,selected_classes]\n",
    "X_valid = X_valid[y_valid.sum(axis=1)>0]\n",
    "y_valid = y_valid[y_valid.sum(axis=1)>0]\n",
    "X_valid_rc = X_valid[:,::-1,::-1]\n",
    "valid_data = [X_valid, X_valid_rc]\n",
    "\n",
    "test_ids, test_ids_d, test_seqs, test_classes = readfile(test_filename)\n",
    "X_test = np.array([one_hot_encode_along_row_axis(test_seqs[id]) for id in test_ids_d]).squeeze(axis=1)\n",
    "y_test = np.array([test_classes[id] for id in test_ids_d])\n",
    "y_test = y_test[:,selected_classes]\n",
    "X_test = X_test[y_test.sum(axis=1)>0]\n",
    "y_test = y_test[y_test.sum(axis=1)>0]\n",
    "X_test_rc = X_test[:,::-1,::-1]\n",
    "test_data = [X_test, X_test_rc]\n",
    "\n",
    "print(\"Prepare finish & Print train/test/val data shape\")\n",
    "print(X_train.shape)\n",
    "print(X_valid.shape)\n",
    "print(X_test.shape)"
   ]
  },
  {
   "cell_type": "markdown",
   "metadata": {},
   "source": [
    "#### Training the model"
   ]
  },
  {
   "cell_type": "code",
   "execution_count": 4,
   "metadata": {},
   "outputs": [
    {
     "name": "stdout",
     "output_type": "stream",
     "text": [
      "Compile model...\n"
     ]
    },
    {
     "name": "stderr",
     "output_type": "stream",
     "text": [
      "2023-03-10 14:27:29.730568: E tensorflow/stream_executor/cuda/cuda_driver.cc:265] failed call to cuInit: CUDA_ERROR_NO_DEVICE: no CUDA-capable device is detected\n",
      "2023-03-10 14:27:29.731681: I tensorflow/stream_executor/cuda/cuda_diagnostics.cc:156] kernel driver does not appear to be running on this host (gadi-cpu-bdw-0007.gadi.nci.org.au): /proc/driver/nvidia/version does not exist\n",
      "2023-03-10 14:27:29.788276: I tensorflow/core/platform/cpu_feature_guard.cc:193] This TensorFlow binary is optimized with oneAPI Deep Neural Network Library (oneDNN) to use the following CPU instructions in performance-critical operations:  AVX2 FMA\n",
      "To enable them in other operations, rebuild TensorFlow with the appropriate compiler flags.\n"
     ]
    },
    {
     "name": "stdout",
     "output_type": "stream",
     "text": [
      "Model: \"model\"\n",
      "__________________________________________________________________________________________________\n",
      " Layer (type)                   Output Shape         Param #     Connected to                     \n",
      "==================================================================================================\n",
      " input_1 (InputLayer)           [(None, 500, 4)]     0           []                               \n",
      "                                                                                                  \n",
      " input_2 (InputLayer)           [(None, 500, 4)]     0           []                               \n",
      "                                                                                                  \n",
      " Conv1D_1st (Conv1D)            (None, 500, 256)     7424        ['input_1[0][0]',                \n",
      "                                                                  'input_2[0][0]']                \n",
      "                                                                                                  \n",
      " batch_normalization (BatchNorm  (None, 500, 256)    1024        ['Conv1D_1st[0][0]',             \n",
      " alization)                                                       'Conv1D_1st[1][0]']             \n",
      "                                                                                                  \n",
      " max_pooling1d (MaxPooling1D)   (None, 250, 256)     0           ['batch_normalization[0][0]',    \n",
      "                                                                  'batch_normalization[1][0]']    \n",
      "                                                                                                  \n",
      " Conv1D_2nd (Conv1D)            (None, 250, 60)      46140       ['max_pooling1d[0][0]',          \n",
      "                                                                  'max_pooling1d[1][0]']          \n",
      "                                                                                                  \n",
      " batch_normalization_1 (BatchNo  (None, 250, 60)     240         ['Conv1D_2nd[0][0]',             \n",
      " rmalization)                                                     'Conv1D_2nd[1][0]']             \n",
      "                                                                                                  \n",
      " max_pooling1d_1 (MaxPooling1D)  (None, 125, 60)     0           ['batch_normalization_1[0][0]',  \n",
      "                                                                  'batch_normalization_1[1][0]']  \n",
      "                                                                                                  \n",
      " Conv1D_3rt (Conv1D)            (None, 125, 60)      18060       ['max_pooling1d_1[0][0]',        \n",
      "                                                                  'max_pooling1d_1[1][0]']        \n",
      "                                                                                                  \n",
      " batch_normalization_2 (BatchNo  (None, 125, 60)     240         ['Conv1D_3rt[0][0]',             \n",
      " rmalization)                                                     'Conv1D_3rt[1][0]']             \n",
      "                                                                                                  \n",
      " max_pooling1d_2 (MaxPooling1D)  (None, 62, 60)      0           ['batch_normalization_2[0][0]',  \n",
      "                                                                  'batch_normalization_2[1][0]']  \n",
      "                                                                                                  \n",
      " Conv1D_4st (Conv1D)            (None, 62, 120)      21720       ['max_pooling1d_2[0][0]',        \n",
      "                                                                  'max_pooling1d_2[1][0]']        \n",
      "                                                                                                  \n",
      " batch_normalization_3 (BatchNo  (None, 62, 120)     480         ['Conv1D_4st[0][0]',             \n",
      " rmalization)                                                     'Conv1D_4st[1][0]']             \n",
      "                                                                                                  \n",
      " max_pooling1d_3 (MaxPooling1D)  (None, 31, 120)     0           ['batch_normalization_3[0][0]',  \n",
      "                                                                  'batch_normalization_3[1][0]']  \n",
      "                                                                                                  \n",
      " flatten (Flatten)              (None, 3720)         0           ['max_pooling1d_3[0][0]',        \n",
      "                                                                  'max_pooling1d_3[1][0]']        \n",
      "                                                                                                  \n",
      " Dense_1nd (Dense)              (None, 256)          952576      ['flatten[0][0]',                \n",
      "                                                                  'flatten[1][0]']                \n",
      "                                                                                                  \n",
      " batch_normalization_4 (BatchNo  (None, 256)         1024        ['Dense_1nd[0][0]',              \n",
      " rmalization)                                                     'Dense_1nd[1][0]']              \n",
      "                                                                                                  \n",
      " activation (Activation)        (None, 256)          0           ['batch_normalization_4[0][0]',  \n",
      "                                                                  'batch_normalization_4[1][0]']  \n",
      "                                                                                                  \n",
      " dropout (Dropout)              (None, 256)          0           ['activation[0][0]',             \n",
      "                                                                  'activation[1][0]']             \n",
      "                                                                                                  \n",
      " Dense_2nd (Dense)              (None, 256)          65792       ['dropout[0][0]',                \n",
      "                                                                  'dropout[1][0]']                \n",
      "                                                                                                  \n",
      " batch_normalization_5 (BatchNo  (None, 256)         1024        ['Dense_2nd[0][0]',              \n",
      " rmalization)                                                     'Dense_2nd[1][0]']              \n",
      "                                                                                                  \n",
      " activation_1 (Activation)      (None, 256)          0           ['batch_normalization_5[0][0]',  \n",
      "                                                                  'batch_normalization_5[1][0]']  \n",
      "                                                                                                  \n",
      " dropout_1 (Dropout)            (None, 256)          0           ['activation_1[0][0]',           \n",
      "                                                                  'activation_1[1][0]']           \n",
      "                                                                                                  \n",
      " dense (Dense)                  (None, 17)           4369        ['dropout_1[0][0]',              \n",
      "                                                                  'dropout_1[1][0]']              \n",
      "                                                                                                  \n",
      " average (Average)              (None, 17)           0           ['dense[0][0]',                  \n",
      "                                                                  'dense[1][0]']                  \n",
      "                                                                                                  \n",
      "==================================================================================================\n",
      "Total params: 1,120,113\n",
      "Trainable params: 1,118,097\n",
      "Non-trainable params: 2,016\n",
      "__________________________________________________________________________________________________\n",
      "Model architecture saved to.. /g/data/zk16/xzhang/code/models/model_mouse17_deepSTARR_lr.json\n",
      "Train model...\n",
      "Epoch 1/100\n",
      "57/57 [==============================] - 36s 516ms/step - loss: 0.2842 - accuracy: 0.1060 - val_loss: 0.3049 - val_accuracy: 0.0820\n",
      "Epoch 2/100\n",
      "57/57 [==============================] - 29s 507ms/step - loss: 0.2129 - accuracy: 0.1833 - val_loss: 0.2888 - val_accuracy: 0.0820\n",
      "Epoch 3/100\n",
      "57/57 [==============================] - 28s 492ms/step - loss: 0.1979 - accuracy: 0.2557 - val_loss: 0.3173 - val_accuracy: 0.0820\n",
      "Epoch 4/100\n",
      "57/57 [==============================] - 28s 492ms/step - loss: 0.1819 - accuracy: 0.3251 - val_loss: 0.3054 - val_accuracy: 0.1390\n",
      "Epoch 5/100\n",
      "57/57 [==============================] - 28s 491ms/step - loss: 0.1703 - accuracy: 0.3728 - val_loss: 0.2547 - val_accuracy: 0.1515\n",
      "Epoch 6/100\n",
      "57/57 [==============================] - 28s 493ms/step - loss: 0.1540 - accuracy: 0.4535 - val_loss: 0.2272 - val_accuracy: 0.2338\n",
      "Epoch 7/100\n",
      "57/57 [==============================] - 28s 492ms/step - loss: 0.1441 - accuracy: 0.4878 - val_loss: 0.2376 - val_accuracy: 0.2238\n",
      "Epoch 8/100\n",
      "57/57 [==============================] - 28s 494ms/step - loss: 0.1275 - accuracy: 0.5752 - val_loss: 0.3299 - val_accuracy: 0.1647\n",
      "Epoch 9/100\n",
      "57/57 [==============================] - 28s 489ms/step - loss: 0.1247 - accuracy: 0.5808 - val_loss: 0.2433 - val_accuracy: 0.2483\n",
      "Epoch 10/100\n",
      "57/57 [==============================] - 28s 486ms/step - loss: 0.1147 - accuracy: 0.6254 - val_loss: 0.2854 - val_accuracy: 0.2218\n",
      "Epoch 11/100\n",
      "57/57 [==============================] - 28s 491ms/step - loss: 0.0981 - accuracy: 0.7100 - val_loss: 0.2183 - val_accuracy: 0.2913\n",
      "Epoch 12/100\n",
      "57/57 [==============================] - 28s 488ms/step - loss: 0.0900 - accuracy: 0.7426 - val_loss: 0.2506 - val_accuracy: 0.2571\n",
      "Epoch 13/100\n",
      "57/57 [==============================] - 28s 490ms/step - loss: 0.0728 - accuracy: 0.8287 - val_loss: 0.2467 - val_accuracy: 0.2712\n",
      "Epoch 14/100\n",
      "57/57 [==============================] - 28s 489ms/step - loss: 0.0604 - accuracy: 0.8818 - val_loss: 0.2480 - val_accuracy: 0.2800\n",
      "Epoch 15/100\n",
      "57/57 [==============================] - 28s 486ms/step - loss: 0.0650 - accuracy: 0.8560 - val_loss: 0.2601 - val_accuracy: 0.2780\n",
      "Epoch 16/100\n",
      "57/57 [==============================] - 28s 485ms/step - loss: 0.0652 - accuracy: 0.8450 - val_loss: 0.2609 - val_accuracy: 0.2611\n",
      "Epoch 17/100\n",
      "57/57 [==============================] - 28s 489ms/step - loss: 0.0538 - accuracy: 0.8971 - val_loss: 0.2583 - val_accuracy: 0.2977\n",
      "Epoch 18/100\n",
      "57/57 [==============================] - 28s 483ms/step - loss: 0.0562 - accuracy: 0.8893 - val_loss: 0.2971 - val_accuracy: 0.2921\n",
      "Epoch 19/100\n",
      "57/57 [==============================] - 28s 489ms/step - loss: 0.0576 - accuracy: 0.8710 - val_loss: 0.2981 - val_accuracy: 0.2845\n",
      "Epoch 20/100\n",
      "57/57 [==============================] - 28s 487ms/step - loss: 0.0564 - accuracy: 0.8814 - val_loss: 0.2788 - val_accuracy: 0.2812\n",
      "Epoch 21/100\n",
      "57/57 [==============================] - 28s 490ms/step - loss: 0.0486 - accuracy: 0.9133 - val_loss: 0.2873 - val_accuracy: 0.3021\n",
      "Model weights saved to.. /g/data/zk16/xzhang/code/models/model_mouse17_end_class_deepSTARRL_lr.hdf5\n",
      "57/57 [==============================] - 4s 78ms/step - loss: 0.0271 - accuracy: 0.9780\n",
      "Tain loss: 0.02706112712621689\n",
      "Train accuracy: 0.9779729247093201\n",
      "19/19 [==============================] - 2s 81ms/step - loss: 0.2869 - accuracy: 0.2884\n",
      "Val loss: 0.2869270145893097\n",
      "Val accuracy: 0.28837400674819946\n",
      "20/20 [==============================] - 2s 75ms/step - loss: 0.2873 - accuracy: 0.3021\n",
      "Test loss: 0.28727683424949646\n",
      "Test accuracy: 0.3021293580532074\n"
     ]
    },
    {
     "data": {
      "text/plain": [
       "<Figure size 432x288 with 0 Axes>"
      ]
     },
     "metadata": {},
     "output_type": "display_data"
    }
   ],
   "source": [
    "EPOCH = 100\n",
    "BATCH = 128\n",
    "\n",
    "PATH_TO_SAVE_ARC = foldername + 'model_mouse17_deepSTARR_lr.json'\n",
    "PATH_TO_SAVE_BEST_LOST_WEIGHTS = foldername + 'model_mouse17_best_loss_class_deepSTARR_lr.hdf5'\n",
    "PATH_TO_SAVE_BEST_ACC_WEIGHTS = foldername + 'model_mouse17_best_acc_class_deepSTARR_lr.hdf5'\n",
    "PATH_TO_SAVE_END_WEIGHTS = foldername + 'model_mouse17_end_class_deepSTARRL_lr.hdf5'\n",
    "\n",
    "print(\"Compile model...\")\n",
    "model = build_model()\n",
    "\n",
    "model_json = model.to_json()\n",
    "with open(PATH_TO_SAVE_ARC, \"w\") as json_file:\n",
    "    json_file.write(model_json)\n",
    "print(\"Model architecture saved to..\", PATH_TO_SAVE_ARC)\n",
    "\n",
    "checkpoint1 = ModelCheckpoint(PATH_TO_SAVE_BEST_LOST_WEIGHTS, monitor='val_loss', verbose=0, save_best_only=True, mode='min')\n",
    "checkpoint2 = ModelCheckpoint(PATH_TO_SAVE_BEST_ACC_WEIGHTS, monitor='val_accuracy', verbose=0, save_best_only=True, mode='max')\n",
    "checkpoint3 = EarlyStopping(monitor='val_loss', patience=10)\n",
    "callbacks_list = [checkpoint1, checkpoint2, checkpoint3]\n",
    "\n",
    "print(\"Train model...\")\n",
    "# shuffle=True\n",
    "history = model.fit( train_data, y_train, epochs=EPOCH, batch_size=BATCH, shuffle=True, validation_data=(test_data, y_test),  verbose=1, callbacks= callbacks_list)\n",
    "\n",
    "create_plots(history)\n",
    "model.save_weights(PATH_TO_SAVE_END_WEIGHTS)\n",
    "print(\"Model weights saved to..\", PATH_TO_SAVE_END_WEIGHTS)\n",
    "# plot_model(model, to_file=foldername + 'model.png')\n",
    "\n",
    "loss, acc = model.evaluate(train_data, y_train, batch_size=BATCH)\n",
    "print('Tain loss:', loss)\n",
    "print('Train accuracy:', acc)\n",
    "\n",
    "loss, acc = model.evaluate(valid_data, y_valid, batch_size=BATCH)\n",
    "print('Val loss:', loss)\n",
    "print('Val accuracy:', acc)\n",
    "\n",
    "loss, acc = model.evaluate(test_data, y_test, batch_size=BATCH)\n",
    "print('Test loss:', loss)\n",
    "print('Test accuracy:', acc)"
   ]
  },
  {
   "cell_type": "code",
   "execution_count": null,
   "metadata": {},
   "outputs": [
    {
     "data": {
      "image/png": "[encoded data removed]",
      "text/plain": [
       "<Figure size 432x288 with 1 Axes>"
      ]
     },
     "metadata": {
      "needs_background": "light"
     },
     "output_type": "display_data"
    },
    {
     "data": {
      "image/png": "[encoded data removed]",
      "text/plain": [
       "<Figure size 432x288 with 1 Axes>"
      ]
     },
     "metadata": {
      "needs_background": "light"
     },
     "output_type": "display_data"
    }
   ],
   "source": [
    "plt.plot(history.history['accuracy'])\n",
    "plt.plot(history.history['val_accuracy'])\n",
    "plt.title('Accuracy / DeepSTARR')\n",
    "plt.ylabel('Accuracy')\n",
    "plt.xlabel('Epochs')\n",
    "plt.legend(['Train', 'Validation'], loc='lower right')\n",
    "plt.show()\n",
    "\n",
    "\n",
    "plt.plot(history.history['loss'])\n",
    "plt.plot(history.history['val_loss'])\n",
    "plt.title('Accuracy / DeepSTARR')\n",
    "plt.ylabel('loss')\n",
    "plt.xlabel('Epochs')\n",
    "plt.legend(['Train', 'Validation'], loc='lower right')\n",
    "plt.show()"
   ]
  },
  {
   "cell_type": "markdown",
   "metadata": {},
   "source": [
    "## Model Evaluation"
   ]
  },
  {
   "cell_type": "code",
   "execution_count": 5,
   "metadata": {},
   "outputs": [
    {
     "name": "stdout",
     "output_type": "stream",
     "text": [
      "78/78 [==============================] - 2s 15ms/step\n"
     ]
    }
   ],
   "source": [
    "model= json_hdf5_to_model('/g/data/zk16/xzhang/code/models/model_mouse17_deepSTARR_lr.json','/g/data/zk16/xzhang/code/models/model_mouse17_best_loss_class_deepSTARR_lr.hdf5')\n",
    "\n",
    "# predict on test set and save values\n",
    "p_test =model.predict(test_data)\n",
    "np.save('deepSTARR_label',y_test)\n",
    "np.save('deepSTATT_predict',p_test)"
   ]
  },
  {
   "cell_type": "code",
   "execution_count": 8,
   "metadata": {},
   "outputs": [
    {
     "name": "stdout",
     "output_type": "stream",
     "text": [
      "calculate roc and pr...\n",
      "225/225 [==============================] - 3s 10ms/step\n",
      "76/76 [==============================] - 1s 10ms/step\n",
      "78/78 [==============================] - 1s 10ms/step\n"
     ]
    }
   ],
   "source": [
    "# Current Model predition\n",
    "print('calculate roc and pr...')\n",
    "roc_pr_dict = {\"train\": {}, \"valid\": {}, \"test\": {}}\n",
    "roc_pr_dict[\"train\"][\"score\"] = model.predict(train_data)\n",
    "roc_pr_dict[\"train\"][\"label\"] = y_train\n",
    "roc_pr_dict[\"valid\"][\"score\"] = model.predict(valid_data)\n",
    "roc_pr_dict[\"valid\"][\"label\"] = y_valid\n",
    "roc_pr_dict[\"test\"][\"score\"] = model.predict(test_data)\n",
    "roc_pr_dict[\"test\"][\"label\"] = y_test\n",
    "\n",
    "# For each class, calculate ROC and auPR\n",
    "for sets in [\"train\", \"valid\", \"test\"]:\n",
    "    output = np.zeros((NUM_CLASSES,2))\n",
    "    l = roc_pr_dict[sets][\"label\"]\n",
    "    s = roc_pr_dict[sets][\"score\"]\n",
    "    for i in range(NUM_CLASSES):\n",
    "        roc = roc_auc_score(l.T[i],s.T[i])\n",
    "        pr = average_precision_score(l.T[i],s.T[i])\n",
    "        output[i] = [roc,pr]\n",
    "    roc_pr_dict[sets][\"roc_pr\"] = output"
   ]
  },
  {
   "cell_type": "markdown",
   "metadata": {},
   "source": [
    "### AUC /auPR plot across 17 cell-type"
   ]
  },
  {
   "cell_type": "code",
   "execution_count": 12,
   "metadata": {},
   "outputs": [
    {
     "name": "stdout",
     "output_type": "stream",
     "text": [
      "AVE_auc across 17 cell-type:  0.7154351655426563 AVE_auPR:  0.1843596001437413\n",
      "auc for each cell-tyep on test set: \n",
      " [0.68350228 0.74673416 0.90625586 0.8035676  0.58692178 0.66074827\n",
      " 0.68918783 0.72279482 0.64059411 0.65996636 0.68594662 0.81363678\n",
      " 0.66160823 0.71110625 0.77918755 0.75826707 0.65237225]\n",
      "auPR for each cell-tyep on test set: \n",
      " [0.06472248 0.21849804 0.71811221 0.27396356 0.01865835 0.0905735\n",
      " 0.10808276 0.12839301 0.06626542 0.04264926 0.11037913 0.37298764\n",
      " 0.1249157  0.05776648 0.36469938 0.27365776 0.0997885 ] \n",
      "\n",
      "auAUC / auPR on test datasets\n"
     ]
    },
    {
     "data": {
      "image/png": "[encoded data removed]",
      "text/plain": [
       "<Figure size 432x288 with 1 Axes>"
      ]
     },
     "metadata": {
      "needs_background": "light"
     },
     "output_type": "display_data"
    }
   ],
   "source": [
    "auc = roc_pr_dict[\"test\"][\"roc_pr\"].T[0]\n",
    "\n",
    "ave_auc = roc_pr_dict[\"test\"][\"roc_pr\"].T[0].mean()\n",
    "ave_pr = roc_pr_dict[\"test\"][\"roc_pr\"].T[1].mean()\n",
    "print(\"AVE_auc across 17 cell-type: \", ave_auc, \"AVE_auPR: \", ave_pr)\n",
    "print(\"auc for each cell-tyep on test set: \\n\",roc_pr_dict[\"test\"][\"roc_pr\"].T[0])\n",
    "print(\"auPR for each cell-tyep on test set: \\n\",roc_pr_dict[\"test\"][\"roc_pr\"].T[1], \"\\n\" )\n",
    "\n",
    "# auc / auPR plot across 13 cell-types\n",
    "Test_auc = roc_pr_dict[\"test\"][\"roc_pr\"].T[0]\n",
    "Test_pr = roc_pr_dict[\"test\"][\"roc_pr\"].T[1]\n",
    "X = np.array(list(range(NUM_CLASSES)))+1\n",
    "cell_type = ['allantois','cardiom','endothelium', 'erythroid', 'exe_endo', 'forebrain', 'gut', 'mesenchyme', 'mid_hindbrain', 'mixed_meso', 'neuralcrest', 'nmp', 'paraxial_meso', 'pharyngeal_meso', 'somitic_meso', 'spinalcord', 'surface_ecto']\n",
    "print('auAUC / auPR on test datasets')\n",
    "plt.plot(X, Test_auc, color='#5D3A9B', label='auROC')\n",
    "plt.plot(X, Test_pr, color='#E66100', label='auPR')\n",
    "# plt.plot([0, 1], [0, 1], linestyle='--')\n",
    "plt.xlabel('cell-type')\n",
    "plt.ylabel('auAUC / auPR')\n",
    "plt.ylim([0, 1.1])\n",
    "plt.xlim([0, 18])\n",
    "plt.title('DeepSTARR \\nauAUC / auPR on test datasets')\n",
    "y_pos = np.arange(len(cell_type))+1\n",
    "plt.xticks(y_pos, cell_type)\n",
    "plt.xticks(rotation=90)\n",
    "plt.legend(['AVE_auc = 0.715', 'AVE_auPR = 0.184)'], loc='upper right')\n",
    "plt.savefig('/home/114/xz3123/pdf/plot.pdf', bbox_inches='tight')\n",
    "plt.show()\n"
   ]
  },
  {
   "cell_type": "code",
   "execution_count": 13,
   "metadata": {},
   "outputs": [
    {
     "data": {
      "image/png": "[encoded data removed]",
      "text/plain": [
       "<Figure size 1080x576 with 2 Axes>"
      ]
     },
     "metadata": {
      "needs_background": "light"
     },
     "output_type": "display_data"
    }
   ],
   "source": [
    "fig = plt.figure(figsize=(15, 8))\n",
    "\n",
    "ax = fig.add_subplot(2, 1, 1)\n",
    "ax.set_ylabel('auROC')\n",
    "ax.scatter(list(range(NUM_CLASSES)), roc_pr_dict[\"train\"][\"roc_pr\"].T[0], color='red', label='TRAIN')\n",
    "ax.scatter(list(range(NUM_CLASSES)), roc_pr_dict[\"valid\"][\"roc_pr\"].T[0], color='blue', label='VALID')\n",
    "ax.scatter(list(range(NUM_CLASSES)), roc_pr_dict[\"test\"][\"roc_pr\"].T[0], color='gray', label='TEST')\n",
    "ax.set_ylim([0, 1.1])\n",
    "_ = plt.xticks(range(len(selected_classes)),range(1,len(selected_classes)+1))\n",
    "ax.legend(loc='lower right')\n",
    "\n",
    "ax = fig.add_subplot(2, 1, 2)\n",
    "ax.set_ylabel('auPR')\n",
    "ax.scatter(list(range(NUM_CLASSES)), roc_pr_dict[\"train\"][\"roc_pr\"].T[1], color='red', label='TRAIN')\n",
    "ax.scatter(list(range(NUM_CLASSES)), roc_pr_dict[\"valid\"][\"roc_pr\"].T[1], color='blue', label='VALID')\n",
    "ax.scatter(list(range(NUM_CLASSES)), roc_pr_dict[\"test\"][\"roc_pr\"].T[1], color='gray', label='TEST')\n",
    "ax.set_ylim([0, 1.1])\n",
    "_ = plt.xticks(range(len(selected_classes)),range(1,len(selected_classes)+1))"
   ]
  }
 ],
 "metadata": {
  "kernelspec": {
   "display_name": "Python 3 (ipykernel)",
   "language": "python",
   "name": "python3"
  },
  "language_info": {
   "codemirror_mode": {
    "name": "ipython",
    "version": 3
   },
   "file_extension": ".py",
   "mimetype": "text/x-python",
   "name": "python",
   "nbconvert_exporter": "python",
   "pygments_lexer": "ipython3",
   "version": "3.9.2"
  }
 },
 "nbformat": 4,
 "nbformat_minor": 4
}
