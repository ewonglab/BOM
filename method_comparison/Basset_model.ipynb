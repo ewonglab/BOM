{
 "cells": [
  {
   "cell_type": "markdown",
   "metadata": {},
   "source": [
    "# Train a Basset model for 17 cell type specific enhancers (from mouse embryo E8.5)\n"
   ]
  },
  {
   "cell_type": "markdown",
   "metadata": {},
   "source": [
    "#### Loading necessary packages"
   ]
  },
  {
   "cell_type": "code",
   "execution_count": 1,
   "metadata": {},
   "outputs": [
    {
     "name": "stderr",
     "output_type": "stream",
     "text": [
      "2023-03-10 14:21:48.711222: I tensorflow/core/platform/cpu_feature_guard.cc:193] This TensorFlow binary is optimized with oneAPI Deep Neural Network Library (oneDNN) to use the following CPU instructions in performance-critical operations:  AVX2 FMA\n",
      "To enable them in other operations, rebuild TensorFlow with the appropriate compiler flags.\n",
      "2023-03-10 14:21:57.589088: W tensorflow/stream_executor/platform/default/dso_loader.cc:64] Could not load dynamic library 'libcudart.so.11.0'; dlerror: libcudart.so.11.0: cannot open shared object file: No such file or directory; LD_LIBRARY_PATH: /apps/intel-ct/2020.3.304/mkl/lib/intel64:/apps/python3/3.9.2/lib\n",
      "2023-03-10 14:21:57.589155: I tensorflow/stream_executor/cuda/cudart_stub.cc:29] Ignore above cudart dlerror if you do not have a GPU set up on your machine.\n",
      "2023-03-10 14:21:58.111838: E tensorflow/stream_executor/cuda/cuda_blas.cc:2981] Unable to register cuBLAS factory: Attempting to register factory for plugin cuBLAS when one has already been registered\n",
      "2023-03-10 14:22:18.466211: W tensorflow/stream_executor/platform/default/dso_loader.cc:64] Could not load dynamic library 'libnvinfer.so.7'; dlerror: libnvinfer.so.7: cannot open shared object file: No such file or directory; LD_LIBRARY_PATH: /apps/intel-ct/2020.3.304/mkl/lib/intel64:/apps/python3/3.9.2/lib\n",
      "2023-03-10 14:22:18.468416: W tensorflow/stream_executor/platform/default/dso_loader.cc:64] Could not load dynamic library 'libnvinfer_plugin.so.7'; dlerror: libnvinfer_plugin.so.7: cannot open shared object file: No such file or directory; LD_LIBRARY_PATH: /apps/intel-ct/2020.3.304/mkl/lib/intel64:/apps/python3/3.9.2/lib\n",
      "2023-03-10 14:22:18.468436: W tensorflow/compiler/tf2tensorrt/utils/py_utils.cc:38] TF-TRT Warning: Cannot dlopen some TensorRT libraries. If you would like to use Nvidia GPU with TensorRT, please make sure the missing libraries mentioned above are installed properly.\n"
     ]
    }
   ],
   "source": [
    "import sys\n",
    "import optparse\n",
    "from array import *\n",
    "import seaborn as sns\n",
    "import pandas as pd\n",
    "\n",
    "import tensorflow as tf\n",
    "tf.random.set_seed(1)\n",
    "\n",
    "import numpy as np\n",
    "\n",
    "from Bio import SeqIO\n",
    "from Bio.Seq import Seq\n",
    "from Bio.SeqRecord import SeqRecord\n",
    "\n",
    "import matplotlib\n",
    "#matplotlib.use('pdf')\n",
    "import matplotlib.pyplot as plt\n",
    "\n",
    "import sklearn\n",
    "from sklearn.utils import class_weight, shuffle\n",
    "from sklearn.model_selection import train_test_split\n",
    "from sklearn.metrics import average_precision_score, roc_auc_score, f1_score, recall_score, roc_curve\n",
    "\n",
    "# confusion_matrix, plot_confusion_matrix, roc_curve, roc_auc_score, precision_recall_curve, auc\n",
    "\n",
    "from tensorflow.keras.models import Sequential, Model\n",
    "from tensorflow.keras.models import model_from_json\n",
    "from tensorflow.keras.layers import Dense, Dropout, Activation, Flatten, Conv1D, MaxPooling1D, Bidirectional, Concatenate, PReLU, Bidirectional, TimeDistributed, LSTM, Layer, average, Input, BatchNormalization\n",
    "from keras import optimizers\n",
    "from tensorflow.keras.optimizers import RMSprop, Adam\n",
    "from tensorflow.keras.callbacks import ModelCheckpoint, EarlyStopping\n",
    "from keras import regularizers"
   ]
  },
  {
   "cell_type": "markdown",
   "metadata": {},
   "source": [
    "#### Defining necessary functitons"
   ]
  },
  {
   "cell_type": "code",
   "execution_count": 3,
   "metadata": {},
   "outputs": [],
   "source": [
    "def get_output(input_layer, hidden_layers):\n",
    "    output = input_layer\n",
    "    for hidden_layer in hidden_layers: \n",
    "        output = hidden_layer(output)\n",
    "    return output\n",
    "\n",
    "\n",
    "# Basset architecture: 3 CNN + 2 Dense\n",
    "def build_model():\n",
    "    forward_input = Input(shape=seq_shape)\n",
    "    reverse_input = Input(shape=seq_shape)\n",
    "    \n",
    "    # Basset architecture\n",
    "    hidden_layers = [\n",
    "        \n",
    "        #---- 3 conv layers -----\n",
    "        # 1st convolutional layer\n",
    "        Conv1D(300, kernel_size=19, padding=\"same\", activation='relu', name='Conv1D_1st'),\n",
    "        BatchNormalization(),\n",
    "        MaxPooling1D(pool_size=3),\n",
    "\n",
    "        # 2 nd convolutional layer\n",
    "        Conv1D(200, kernel_size=11, padding=\"same\",activation='relu', name='Conv1D_2nd'),\n",
    "        BatchNormalization(),\n",
    "        MaxPooling1D(pool_size=4),\n",
    "        \n",
    "        # 3rd convolutional layer\n",
    "        Conv1D(200, kernel_size=7, padding=\"same\",activation='relu', name='Conv1D_3rt'),\n",
    "        BatchNormalization(),\n",
    "        MaxPooling1D(pool_size=4),\n",
    "           \n",
    "        Flatten(),\n",
    "        \n",
    "        #---- 2 Dense layers -----\n",
    "        Dense(1000, name='Dense_1nd'),\n",
    "        BatchNormalization(),  \n",
    "        Activation('relu'),\n",
    "        Dropout(0.3),\n",
    "        \n",
    "        Dense(1000, name='Dense_2nd'),\n",
    "        BatchNormalization(),  \n",
    "        Activation('relu'),\n",
    "        Dropout(0.3),\n",
    "        \n",
    "        Dense(len(selected_classes), activation='sigmoid')]    \n",
    "    \n",
    "    forward_output = get_output(forward_input, hidden_layers)     \n",
    "    reverse_output = get_output(reverse_input, hidden_layers)\n",
    "    output = average([forward_output, reverse_output])\n",
    "    # model = Model([forward_input, reverse_input], output)\n",
    "    model = Model(inputs=[forward_input, reverse_input], outputs=output)\n",
    "    model.summary()\n",
    "    optimizer = Adam(learning_rate=0.002)\n",
    "    model.compile(optimizer=optimizer, loss='binary_crossentropy', metrics=['accuracy'])\n",
    "    return model\n",
    "   \n",
    "#input: fasta file (>seqid_topicsid)\n",
    "def readfile(filename):\n",
    "    ids = []\n",
    "    ids_d = {}\n",
    "    seqs = {}\n",
    "    classes = {}\n",
    "    f = open(filename, 'r')\n",
    "    lines = f.readlines()\n",
    "    f.close()\n",
    "    seq = []\n",
    "    for line in lines:\n",
    "        if line[0] == '>':\n",
    "            ids.append(line[1:].rstrip('\\n'))\n",
    "            if line[1:].rstrip('\\n').split('_')[0] not in seqs:\n",
    "                seqs[line[1:].rstrip('\\n').split('_')[0]] = []\n",
    "            if line[1:].rstrip('\\n').split('_')[0] not in ids_d:\n",
    "                ids_d[line[1:].rstrip('\\n').split('_')[0]] = line[1:].rstrip('\\n').split('_')[0]\n",
    "            if line[1:].rstrip('\\n').split('_')[0] not in classes:\n",
    "                classes[line[1:].rstrip('\\n').split('_')[0]] = np.zeros(NUM_CLASSES)\n",
    "            classes[line[1:].rstrip('\\n').split('_')[0]][int(line[1:].rstrip('\\n').split('_')[1])-1] = 1        \n",
    "            if seq != []: seqs[ids[-2].split('_')[0]]= (\"\".join(seq))\n",
    "            seq = []\n",
    "        else:\n",
    "            seq.append(line.rstrip('\\n').upper())\n",
    "    if seq != []:\n",
    "        seqs[ids[-1].split('_')[0]]=(\"\".join(seq))\n",
    "    return ids,ids_d,seqs,classes\n",
    "\n",
    "def one_hot_encode_along_row_axis(sequence):\n",
    "    to_return = np.zeros((1,len(sequence),4), dtype=np.int8)\n",
    "    seq_to_one_hot_fill_in_array(zeros_array=to_return[0],\n",
    "                                 sequence=sequence, one_hot_axis=1)\n",
    "    return to_return\n",
    "\n",
    "def seq_to_one_hot_fill_in_array(zeros_array, sequence, one_hot_axis):\n",
    "    assert one_hot_axis==0 or one_hot_axis==1\n",
    "    if (one_hot_axis==0):\n",
    "        assert zeros_array.shape[1] == len(sequence)\n",
    "    elif (one_hot_axis==1): \n",
    "        assert zeros_array.shape[0] == len(sequence)\n",
    "    for (i,char) in enumerate(sequence):\n",
    "        if (char==\"A\" or char==\"a\"):\n",
    "            char_idx = 0\n",
    "        elif (char==\"C\" or char==\"c\"):\n",
    "            char_idx = 1\n",
    "        elif (char==\"G\" or char==\"g\"):\n",
    "            char_idx = 2\n",
    "        elif (char==\"T\" or char==\"t\"):\n",
    "            char_idx = 3\n",
    "        elif (char==\"N\" or char==\"n\"):\n",
    "            continue\n",
    "        else:\n",
    "            raise RuntimeError(\"Unsupported character: \"+str(char))\n",
    "        if (one_hot_axis==0):\n",
    "            zeros_array[char_idx,i] = 1\n",
    "        elif (one_hot_axis==1):\n",
    "            zeros_array[i,char_idx] = 1\n",
    "\n",
    "def create_plots(history):\n",
    "    plt.plot(history.history['accuracy'])\n",
    "    plt.plot(history.history['val_accuracy'])\n",
    "    plt.title('model accuracy')\n",
    "    plt.ylabel('accuracy')\n",
    "    plt.xlabel('epoch')\n",
    "    plt.legend(['train', 'test'], loc='upper left')\n",
    "    plt.savefig(foldername + 'accuracy.png')\n",
    "    plt.clf()\n",
    "\n",
    "    plt.plot(history.history['loss'])\n",
    "    plt.plot(history.history['val_loss'])\n",
    "    plt.title('model loss')\n",
    "    plt.ylabel('loss')\n",
    "    plt.xlabel('epoch')\n",
    "    plt.legend(['train', 'test'], loc='upper left')\n",
    "    plt.savefig(foldername + 'loss.png')\n",
    "    plt.clf()\n",
    "    \n",
    "def json_hdf5_to_model(json_filename, hdf5_filename):  \n",
    "    with open(json_filename, 'r') as f:\n",
    "        model = model_from_json(f.read())\n",
    "    model.load_weights(hdf5_filename)\n",
    "    return model\n",
    "\n",
    "def loc_to_model_loss(loc):\n",
    "    return json_hdf5_to_model(loc + 'model.json', loc + 'model_best_loss.hdf5')\n",
    "\n",
    "def shuffle_label(label):\n",
    "    for i in range(len(label.T)):\n",
    "        label.T[i] = shuffle(label.T[i])\n",
    "    return label\n",
    "\n",
    "def calculate_roc_pr(score, label):\n",
    "    output = np.zeros((len(label.T), 2))\n",
    "    for i in range(len(label.T)):\n",
    "        roc_ = roc_auc_score(label.T[i], score.T[i])\n",
    "        pr_ = average_precision_score(label.T[i], score.T[i])\n",
    "        output[i] = [roc_, pr_]\n",
    "    return output"
   ]
  },
  {
   "cell_type": "markdown",
   "metadata": {},
   "source": [
    "#### Preparing the input data"
   ]
  },
  {
   "cell_type": "code",
   "execution_count": 4,
   "metadata": {},
   "outputs": [
    {
     "name": "stdout",
     "output_type": "stream",
     "text": [
      "Prepare input...\n",
      "Prepare finish & Print train/test/val data shape\n",
      "(7173, 500, 4)\n",
      "(2417, 500, 4)\n",
      "(2489, 500, 4)\n"
     ]
    }
   ],
   "source": [
    "# for mouse cell-type specific E8.25 stage (17-cell types)\n",
    "#label order [1-17]: ['allantois_600_val.fa','cardiom_600_val.fa','endothelium_600_val.fa', 'erythroid_600_val.fa', 'exe_endo_600_val.fa', 'forebrain_600_val.fa', 'gut_600_val.fa', 'mesenchyme_600_val.fa', 'mid_hindbrain_600_val.fa', 'mixed_meso_600_val.fa', 'neuralcrest_600_val.fa', 'nmp_600_val.fa', 'paraxial_meso_600_val.fa', 'pharyngeal_meso_600_val.fa', 'somitic_meso_600_val.fa', 'spinalcord_600_val.fa', 'surface_ecto_600_val.fa']\n",
    "# celltypes = ['allantois','cardiom','endothelium', 'erythroid', 'exe_endo', 'forebrain', 'gut', 'mesenchyme', 'mid_hindbrain', 'mixed_meso', 'neuralcrest', 'nmp', 'paraxial_meso', 'pharyngeal_meso', 'somitic_meso', 'spinalcord', 'surface_ecto']\n",
    "\n",
    "NUM_CLASSES = 17\n",
    "selected_classes = np.arange(17)\n",
    "SEQ_LEN = 500\n",
    "SEQ_DIM = 4\n",
    "seq_shape = (SEQ_LEN, SEQ_DIM)\n",
    "\n",
    "\n",
    "foldername = '/g/data/zk16/xzhang/code/models/'\n",
    "train_filename = '/g/data/zk16/xzhang/data/mouse_embryo/e85/paola_split/600_fasta/17_mousecelltype_train.fa'\n",
    "valid_filename = '/g/data/zk16/xzhang/data/mouse_embryo/e85/paola_split/600_fasta/17_mousecelltype_val.fa'\n",
    "test_filename = '/g/data/zk16/xzhang/data/mouse_embryo/e85/paola_split/600_fasta/17_mousecelltype_test.fa'\n",
    "\n",
    "\n",
    "print(\"Prepare input...\")\n",
    "train_ids, train_ids_d, train_seqs, train_classes = readfile(train_filename)\n",
    "X_train = np.array([one_hot_encode_along_row_axis(train_seqs[id]) for id in train_ids_d]).squeeze(axis=1)\n",
    "y_train = np.array([train_classes[id] for id in train_ids_d])\n",
    "# extract selected_classes\n",
    "y_train = y_train[:,selected_classes]\n",
    "# check non-empty\n",
    "X_train = X_train[y_train.sum(axis=1)>0]\n",
    "y_train = y_train[y_train.sum(axis=1)>0]\n",
    "# reverse_complement seq\n",
    "X_train_rc = X_train[:,::-1,::-1]\n",
    "train_data = [X_train, X_train_rc]\n",
    "\n",
    "valid_ids, valid_ids_d, valid_seqs, valid_classes = readfile(valid_filename)\n",
    "X_valid = np.array([one_hot_encode_along_row_axis(valid_seqs[id]) for id in valid_ids_d]).squeeze(axis=1)\n",
    "y_valid = np.array([valid_classes[id] for id in valid_ids_d])\n",
    "y_valid = y_valid[:,selected_classes]\n",
    "X_valid = X_valid[y_valid.sum(axis=1)>0]\n",
    "y_valid = y_valid[y_valid.sum(axis=1)>0]\n",
    "X_valid_rc = X_valid[:,::-1,::-1]\n",
    "valid_data = [X_valid, X_valid_rc]\n",
    "\n",
    "test_ids, test_ids_d, test_seqs, test_classes = readfile(test_filename)\n",
    "X_test = np.array([one_hot_encode_along_row_axis(test_seqs[id]) for id in test_ids_d]).squeeze(axis=1)\n",
    "y_test = np.array([test_classes[id] for id in test_ids_d])\n",
    "y_test = y_test[:,selected_classes]\n",
    "X_test = X_test[y_test.sum(axis=1)>0]\n",
    "y_test = y_test[y_test.sum(axis=1)>0]\n",
    "X_test_rc = X_test[:,::-1,::-1]\n",
    "test_data = [X_test, X_test_rc]\n",
    "\n",
    "print(\"Prepare finish & Print train/test/val data shape\")\n",
    "print(X_train.shape)\n",
    "print(X_valid.shape)\n",
    "print(X_test.shape)"
   ]
  },
  {
   "cell_type": "markdown",
   "metadata": {},
   "source": [
    "#### Training the model"
   ]
  },
  {
   "cell_type": "code",
   "execution_count": 6,
   "metadata": {},
   "outputs": [
    {
     "name": "stdout",
     "output_type": "stream",
     "text": [
      "Compile model...\n",
      "Model: \"model_1\"\n",
      "__________________________________________________________________________________________________\n",
      " Layer (type)                   Output Shape         Param #     Connected to                     \n",
      "==================================================================================================\n",
      " input_3 (InputLayer)           [(None, 500, 4)]     0           []                               \n",
      "                                                                                                  \n",
      " input_4 (InputLayer)           [(None, 500, 4)]     0           []                               \n",
      "                                                                                                  \n",
      " Conv1D_1st (Conv1D)            (None, 500, 300)     23100       ['input_3[0][0]',                \n",
      "                                                                  'input_4[0][0]']                \n",
      "                                                                                                  \n",
      " batch_normalization_5 (BatchNo  (None, 500, 300)    1200        ['Conv1D_1st[0][0]',             \n",
      " rmalization)                                                     'Conv1D_1st[1][0]']             \n",
      "                                                                                                  \n",
      " max_pooling1d_3 (MaxPooling1D)  (None, 166, 300)    0           ['batch_normalization_5[0][0]',  \n",
      "                                                                  'batch_normalization_5[1][0]']  \n",
      "                                                                                                  \n",
      " Conv1D_2nd (Conv1D)            (None, 166, 200)     660200      ['max_pooling1d_3[0][0]',        \n",
      "                                                                  'max_pooling1d_3[1][0]']        \n",
      "                                                                                                  \n",
      " batch_normalization_6 (BatchNo  (None, 166, 200)    800         ['Conv1D_2nd[0][0]',             \n",
      " rmalization)                                                     'Conv1D_2nd[1][0]']             \n",
      "                                                                                                  \n",
      " max_pooling1d_4 (MaxPooling1D)  (None, 41, 200)     0           ['batch_normalization_6[0][0]',  \n",
      "                                                                  'batch_normalization_6[1][0]']  \n",
      "                                                                                                  \n",
      " Conv1D_3rt (Conv1D)            (None, 41, 200)      280200      ['max_pooling1d_4[0][0]',        \n",
      "                                                                  'max_pooling1d_4[1][0]']        \n",
      "                                                                                                  \n",
      " batch_normalization_7 (BatchNo  (None, 41, 200)     800         ['Conv1D_3rt[0][0]',             \n",
      " rmalization)                                                     'Conv1D_3rt[1][0]']             \n",
      "                                                                                                  \n",
      " max_pooling1d_5 (MaxPooling1D)  (None, 10, 200)     0           ['batch_normalization_7[0][0]',  \n",
      "                                                                  'batch_normalization_7[1][0]']  \n",
      "                                                                                                  \n",
      " flatten_1 (Flatten)            (None, 2000)         0           ['max_pooling1d_5[0][0]',        \n",
      "                                                                  'max_pooling1d_5[1][0]']        \n",
      "                                                                                                  \n",
      " Dense_1nd (Dense)              (None, 1000)         2001000     ['flatten_1[0][0]',              \n",
      "                                                                  'flatten_1[1][0]']              \n",
      "                                                                                                  \n",
      " batch_normalization_8 (BatchNo  (None, 1000)        4000        ['Dense_1nd[0][0]',              \n",
      " rmalization)                                                     'Dense_1nd[1][0]']              \n",
      "                                                                                                  \n",
      " activation_2 (Activation)      (None, 1000)         0           ['batch_normalization_8[0][0]',  \n",
      "                                                                  'batch_normalization_8[1][0]']  \n",
      "                                                                                                  \n",
      " dropout_2 (Dropout)            (None, 1000)         0           ['activation_2[0][0]',           \n",
      "                                                                  'activation_2[1][0]']           \n",
      "                                                                                                  \n",
      " Dense_2nd (Dense)              (None, 1000)         1001000     ['dropout_2[0][0]',              \n",
      "                                                                  'dropout_2[1][0]']              \n",
      "                                                                                                  \n",
      " batch_normalization_9 (BatchNo  (None, 1000)        4000        ['Dense_2nd[0][0]',              \n",
      " rmalization)                                                     'Dense_2nd[1][0]']              \n",
      "                                                                                                  \n",
      " activation_3 (Activation)      (None, 1000)         0           ['batch_normalization_9[0][0]',  \n",
      "                                                                  'batch_normalization_9[1][0]']  \n",
      "                                                                                                  \n",
      " dropout_3 (Dropout)            (None, 1000)         0           ['activation_3[0][0]',           \n",
      "                                                                  'activation_3[1][0]']           \n",
      "                                                                                                  \n",
      " dense_1 (Dense)                (None, 17)           17017       ['dropout_3[0][0]',              \n",
      "                                                                  'dropout_3[1][0]']              \n",
      "                                                                                                  \n",
      " average_1 (Average)            (None, 17)           0           ['dense_1[0][0]',                \n",
      "                                                                  'dense_1[1][0]']                \n",
      "                                                                                                  \n",
      "==================================================================================================\n",
      "Total params: 3,993,317\n",
      "Trainable params: 3,987,917\n",
      "Non-trainable params: 5,400\n",
      "__________________________________________________________________________________________________\n",
      "Model architecture saved to.. /g/data/zk16/xzhang/code/models/model_mouse17_deepSTARR_lr.json\n",
      "Train model...\n",
      "Epoch 1/100\n",
      "57/57 [==============================] - 41s 681ms/step - loss: 0.2460 - accuracy: 0.1430 - val_loss: 0.8224 - val_accuracy: 0.1450\n",
      "Epoch 2/100\n",
      "57/57 [==============================] - 38s 665ms/step - loss: 0.2046 - accuracy: 0.2165 - val_loss: 0.9073 - val_accuracy: 0.0820\n",
      "Epoch 3/100\n",
      "57/57 [==============================] - 38s 660ms/step - loss: 0.1986 - accuracy: 0.2469 - val_loss: 0.8587 - val_accuracy: 0.1450\n",
      "Epoch 4/100\n",
      "57/57 [==============================] - 38s 660ms/step - loss: 0.1837 - accuracy: 0.3155 - val_loss: 0.9212 - val_accuracy: 0.0820\n",
      "Epoch 5/100\n",
      "57/57 [==============================] - 38s 662ms/step - loss: 0.1693 - accuracy: 0.3855 - val_loss: 0.8095 - val_accuracy: 0.0820\n",
      "Epoch 6/100\n",
      "57/57 [==============================] - 38s 659ms/step - loss: 0.1526 - accuracy: 0.4645 - val_loss: 0.3604 - val_accuracy: 0.0924\n",
      "Epoch 7/100\n",
      "57/57 [==============================] - 37s 656ms/step - loss: 0.1407 - accuracy: 0.5017 - val_loss: 0.3856 - val_accuracy: 0.0872\n",
      "Epoch 8/100\n",
      "57/57 [==============================] - 38s 662ms/step - loss: 0.1341 - accuracy: 0.5309 - val_loss: 0.3877 - val_accuracy: 0.1892\n",
      "Epoch 9/100\n",
      "57/57 [==============================] - 38s 666ms/step - loss: 0.0995 - accuracy: 0.6965 - val_loss: 0.3416 - val_accuracy: 0.1712\n",
      "Epoch 10/100\n",
      "57/57 [==============================] - 38s 663ms/step - loss: 0.0875 - accuracy: 0.7500 - val_loss: 0.3118 - val_accuracy: 0.2141\n",
      "Epoch 11/100\n",
      "57/57 [==============================] - 37s 655ms/step - loss: 0.0620 - accuracy: 0.8740 - val_loss: 0.3392 - val_accuracy: 0.2125\n",
      "Epoch 12/100\n",
      "57/57 [==============================] - 38s 661ms/step - loss: 0.0496 - accuracy: 0.9186 - val_loss: 0.3165 - val_accuracy: 0.2322\n",
      "Epoch 13/100\n",
      "57/57 [==============================] - 37s 658ms/step - loss: 0.0389 - accuracy: 0.9624 - val_loss: 0.3785 - val_accuracy: 0.2664\n",
      "Epoch 14/100\n",
      "57/57 [==============================] - 37s 656ms/step - loss: 0.0498 - accuracy: 0.9060 - val_loss: 0.3464 - val_accuracy: 0.2543\n",
      "Epoch 15/100\n",
      "57/57 [==============================] - 38s 659ms/step - loss: 0.0684 - accuracy: 0.8312 - val_loss: 0.5199 - val_accuracy: 0.1989\n",
      "Epoch 16/100\n",
      "57/57 [==============================] - 37s 655ms/step - loss: 0.0827 - accuracy: 0.7658 - val_loss: 0.5440 - val_accuracy: 0.2527\n",
      "Epoch 17/100\n",
      "57/57 [==============================] - 37s 656ms/step - loss: 0.0566 - accuracy: 0.8862 - val_loss: 0.4062 - val_accuracy: 0.2318\n",
      "Epoch 18/100\n",
      "57/57 [==============================] - 37s 658ms/step - loss: 0.0399 - accuracy: 0.9512 - val_loss: 0.3491 - val_accuracy: 0.2740\n",
      "Epoch 19/100\n",
      "57/57 [==============================] - 37s 655ms/step - loss: 0.0277 - accuracy: 0.9835 - val_loss: 0.3318 - val_accuracy: 0.2704\n",
      "Epoch 20/100\n",
      "57/57 [==============================] - 37s 657ms/step - loss: 0.0288 - accuracy: 0.9781 - val_loss: 0.3632 - val_accuracy: 0.2732\n",
      "Model weights saved to.. /g/data/zk16/xzhang/code/models/model_mouse17_end_class_deepSTARRL_lr.hdf5\n",
      "57/57 [==============================] - 7s 122ms/step - loss: 0.0240 - accuracy: 0.9798\n",
      "Tain loss: 0.02399711310863495\n",
      "Train accuracy: 0.9797853231430054\n",
      "19/19 [==============================] - 2s 123ms/step - loss: 0.3602 - accuracy: 0.2693\n",
      "Val loss: 0.3602333068847656\n",
      "Val accuracy: 0.2693421542644501\n",
      "20/20 [==============================] - 2s 119ms/step - loss: 0.3632 - accuracy: 0.2732\n",
      "Test loss: 0.36321625113487244\n",
      "Test accuracy: 0.2732020914554596\n"
     ]
    },
    {
     "data": {
      "text/plain": [
       "<Figure size 432x288 with 0 Axes>"
      ]
     },
     "metadata": {},
     "output_type": "display_data"
    }
   ],
   "source": [
    "EPOCH = 100\n",
    "BATCH = 128\n",
    "\n",
    "PATH_TO_SAVE_ARC = foldername + 'model_mouse17_Basset_lr.json'\n",
    "PATH_TO_SAVE_BEST_LOST_WEIGHTS = foldername + 'model_mouse17_best_loss_class_Basset_lr.hdf5'\n",
    "PATH_TO_SAVE_BEST_ACC_WEIGHTS = foldername + 'model_mouse17_best_acc_class_Basset_lr.hdf5'\n",
    "PATH_TO_SAVE_END_WEIGHTS = foldername + 'model_mouse17_end_class_Basset_lr.hdf5'\n",
    "\n",
    "print(\"Compile model...\")\n",
    "model = build_model()\n",
    "\n",
    "model_json = model.to_json()\n",
    "with open(PATH_TO_SAVE_ARC, \"w\") as json_file:\n",
    "    json_file.write(model_json)\n",
    "print(\"Model architecture saved to..\", PATH_TO_SAVE_ARC)\n",
    "\n",
    "checkpoint1 = ModelCheckpoint(PATH_TO_SAVE_BEST_LOST_WEIGHTS, monitor='val_loss', verbose=0, save_best_only=True, mode='min')\n",
    "checkpoint2 = ModelCheckpoint(PATH_TO_SAVE_BEST_ACC_WEIGHTS, monitor='val_accuracy', verbose=0, save_best_only=True, mode='max')\n",
    "checkpoint3 = EarlyStopping(monitor='val_loss', patience=10)\n",
    "callbacks_list = [checkpoint1, checkpoint2, checkpoint3]\n",
    "\n",
    "print(\"Train model...\")\n",
    "# shuffle=True\n",
    "history = model.fit( train_data, y_train, epochs=EPOCH, batch_size=BATCH, shuffle=True, validation_data=(valid_data, y_valid),  verbose=1, callbacks= callbacks_list)\n",
    "\n",
    "create_plots(history)\n",
    "model.save_weights(PATH_TO_SAVE_END_WEIGHTS)\n",
    "print(\"Model weights saved to..\", PATH_TO_SAVE_END_WEIGHTS)\n",
    "\n",
    "loss, acc = model.evaluate(train_data, y_train, batch_size=BATCH)\n",
    "print('Tain loss:', loss)\n",
    "print('Train accuracy:', acc)\n",
    "\n",
    "loss, acc = model.evaluate(valid_data, y_valid, batch_size=BATCH)\n",
    "print('Val loss:', loss)\n",
    "print('Val accuracy:', acc)\n",
    "\n",
    "loss, acc = model.evaluate(test_data, y_test, batch_size=BATCH)\n",
    "print('Test loss:', loss)\n",
    "print('Test accuracy:', acc)"
   ]
  },
  {
   "cell_type": "code",
   "execution_count": 12,
   "metadata": {},
   "outputs": [
    {
     "data": {
      "image/png": "[encoded data removed]",
      "text/plain": [
       "<Figure size 432x288 with 1 Axes>"
      ]
     },
     "metadata": {
      "needs_background": "light"
     },
     "output_type": "display_data"
    },
    {
     "data": {
      "image/png": "[encoded data removed]",
      "text/plain": [
       "<Figure size 432x288 with 1 Axes>"
      ]
     },
     "metadata": {
      "needs_background": "light"
     },
     "output_type": "display_data"
    }
   ],
   "source": [
    "# train loss and accuracy plot\n",
    "plt.plot(history.history['accuracy'])\n",
    "plt.plot(history.history['val_accuracy'])\n",
    "plt.title('Accuracy / Basset')\n",
    "plt.ylabel('Accuracy')\n",
    "plt.xlabel('Epochs')\n",
    "plt.legend(['Train', 'Validation'], loc='lower right')\n",
    "plt.show()\n",
    "\n",
    "\n",
    "plt.plot(history.history['loss'])\n",
    "plt.plot(history.history['val_loss'])\n",
    "plt.title('Accuracy / Basset')\n",
    "plt.ylabel('loss')\n",
    "plt.xlabel('Epochs')\n",
    "plt.legend(['Train', 'Validation'], loc='lower right')\n",
    "plt.show()"
   ]
  },
  {
   "cell_type": "markdown",
   "metadata": {},
   "source": [
    "### Model Evaluation"
   ]
  },
  {
   "cell_type": "code",
   "execution_count": 6,
   "metadata": {},
   "outputs": [
    {
     "data": {
      "text/plain": [
       "(2489, 17)"
      ]
     },
     "execution_count": 6,
     "metadata": {},
     "output_type": "execute_result"
    }
   ],
   "source": [
    "model= json_hdf5_to_model('/g/data/zk16/xzhang/code/models/model_mouse17_Basset_lr.json','/g/data/zk16/xzhang/code/models/model_mouse17_best_loss_class_Basset_lr.hdf5')\n",
    "\n",
    "# predict on test set and save values\n",
    "p_test =model.predict(test_data)\n",
    "np.save('Basset_label',y_test)\n",
    "np.save('Basset_predict',p_test)"
   ]
  },
  {
   "cell_type": "code",
   "execution_count": 8,
   "metadata": {},
   "outputs": [
    {
     "name": "stdout",
     "output_type": "stream",
     "text": [
      "calculate roc and pr...\n",
      "225/225 [==============================] - 6s 27ms/step\n",
      "76/76 [==============================] - 2s 27ms/step\n",
      "78/78 [==============================] - 2s 27ms/step\n"
     ]
    }
   ],
   "source": [
    "# Current Model predition\n",
    "print('calculate roc and pr...')\n",
    "roc_pr_dict = {\"train\": {}, \"valid\": {}, \"test\": {}}\n",
    "roc_pr_dict[\"train\"][\"score\"] = model.predict(train_data)\n",
    "roc_pr_dict[\"train\"][\"label\"] = y_train\n",
    "roc_pr_dict[\"valid\"][\"score\"] = model.predict(valid_data)\n",
    "roc_pr_dict[\"valid\"][\"label\"] = y_valid\n",
    "roc_pr_dict[\"test\"][\"score\"] = model.predict(test_data)\n",
    "roc_pr_dict[\"test\"][\"label\"] = y_test\n",
    "\n",
    "# For each class, calculate ROC and auPR\n",
    "for sets in [\"train\", \"valid\", \"test\"]:\n",
    "    output = np.zeros((NUM_CLASSES,2))\n",
    "    l = roc_pr_dict[sets][\"label\"]\n",
    "    s = roc_pr_dict[sets][\"score\"]\n",
    "    for i in range(NUM_CLASSES):\n",
    "        roc = roc_auc_score(l.T[i],s.T[i])\n",
    "        pr = average_precision_score(l.T[i],s.T[i])\n",
    "        output[i] = [roc,pr]\n",
    "    roc_pr_dict[sets][\"roc_pr\"] = output"
   ]
  },
  {
   "cell_type": "markdown",
   "metadata": {},
   "source": [
    "### AUC /auPR plot across 17 cell-types"
   ]
  },
  {
   "cell_type": "code",
   "execution_count": 10,
   "metadata": {},
   "outputs": [
    {
     "name": "stdout",
     "output_type": "stream",
     "text": [
      "AVE_auc across 17 cell-type:  0.7052927590768157 AVE_auPR:  0.17738244529777836\n",
      "auc for each cell-tyep on test set: \n",
      " [0.72246967 0.73735029 0.88677415 0.74613206 0.57500701 0.64934285\n",
      " 0.69620504 0.72117689 0.67176275 0.50470984 0.77118731 0.80160713\n",
      " 0.63126299 0.66101757 0.77601556 0.74221975 0.69573604]\n",
      "auPR for each cell-tyep on test set: \n",
      " [0.06954383 0.20142808 0.6684804  0.22540494 0.01734538 0.0844962\n",
      " 0.1218763  0.12638225 0.06686869 0.01430755 0.20248869 0.3861594\n",
      " 0.11010105 0.04513066 0.34483294 0.22090782 0.1097474 ] \n",
      "\n",
      "auAUC / auPR on test datasets\n"
     ]
    },
    {
     "data": {
      "image/png": "[encoded data removed]",
      "text/plain": [
       "<Figure size 432x288 with 1 Axes>"
      ]
     },
     "metadata": {
      "needs_background": "light"
     },
     "output_type": "display_data"
    }
   ],
   "source": [
    "auc = roc_pr_dict[\"test\"][\"roc_pr\"].T[0]\n",
    "\n",
    "ave_auc = roc_pr_dict[\"test\"][\"roc_pr\"].T[0].mean()\n",
    "ave_pr = roc_pr_dict[\"test\"][\"roc_pr\"].T[1].mean()\n",
    "print(\"AVE_auc across 17 cell-type: \", ave_auc, \"AVE_auPR: \", ave_pr)\n",
    "print(\"auc for each cell-tyep on test set: \\n\",roc_pr_dict[\"test\"][\"roc_pr\"].T[0])\n",
    "print(\"auPR for each cell-tyep on test set: \\n\",roc_pr_dict[\"test\"][\"roc_pr\"].T[1], \"\\n\" )\n",
    "\n",
    "# auc / auPR plot across 13 cell-types\n",
    "Test_auc = roc_pr_dict[\"test\"][\"roc_pr\"].T[0]\n",
    "Test_pr = roc_pr_dict[\"test\"][\"roc_pr\"].T[1]\n",
    "X = np.array(list(range(NUM_CLASSES)))+1\n",
    "cell_type = ['allantois','cardiom','endothelium', 'erythroid', 'exe_endo', 'forebrain', 'gut', 'mesenchyme', 'mid_hindbrain', 'mixed_meso', 'neuralcrest', 'nmp', 'paraxial_meso', 'pharyngeal_meso', 'somitic_meso', 'spinalcord', 'surface_ecto']\n",
    "print('auAUC / auPR on test datasets')\n",
    "plt.plot(X, Test_auc, color='#5D3A9B', label='auROC')\n",
    "plt.plot(X, Test_pr, color='#E66100', label='auPR')\n",
    "# plt.plot([0, 1], [0, 1], linestyle='--')\n",
    "plt.xlabel('cell-type')\n",
    "plt.ylabel('auAUC / auPR')\n",
    "plt.ylim([0, 1.1])\n",
    "plt.xlim([0, 18])\n",
    "plt.title('Basset \\nauAUC / auPR on test datasets')\n",
    "y_pos = np.arange(len(cell_type))+1\n",
    "plt.xticks(y_pos, cell_type)\n",
    "plt.xticks(rotation=90)\n",
    "plt.legend(['AVE_auc = 0.705', 'AVE_auPR = 0.177)'], loc='upper right')\n",
    "plt.savefig('/home/114/xz3123/pdf/plot.pdf', bbox_inches='tight')\n",
    "plt.show()\n"
   ]
  },
  {
   "cell_type": "code",
   "execution_count": 11,
   "metadata": {},
   "outputs": [
    {
     "data": {
      "image/png": "[encoded data removed]",
      "text/plain": [
       "<Figure size 1080x576 with 2 Axes>"
      ]
     },
     "metadata": {
      "needs_background": "light"
     },
     "output_type": "display_data"
    }
   ],
   "source": [
    "fig = plt.figure(figsize=(15, 8))\n",
    "\n",
    "ax = fig.add_subplot(2, 1, 1)\n",
    "ax.set_ylabel('auROC')\n",
    "ax.scatter(list(range(NUM_CLASSES)), roc_pr_dict[\"train\"][\"roc_pr\"].T[0], color='red', label='TRAIN')\n",
    "ax.scatter(list(range(NUM_CLASSES)), roc_pr_dict[\"valid\"][\"roc_pr\"].T[0], color='blue', label='VALID')\n",
    "ax.scatter(list(range(NUM_CLASSES)), roc_pr_dict[\"test\"][\"roc_pr\"].T[0], color='gray', label='TEST')\n",
    "ax.set_ylim([0, 1.1])\n",
    "_ = plt.xticks(range(len(selected_classes)),range(1,len(selected_classes)+1))\n",
    "ax.legend(loc='lower right')\n",
    "\n",
    "ax = fig.add_subplot(2, 1, 2)\n",
    "ax.set_ylabel('auPR')\n",
    "ax.scatter(list(range(NUM_CLASSES)), roc_pr_dict[\"train\"][\"roc_pr\"].T[1], color='red', label='TRAIN')\n",
    "ax.scatter(list(range(NUM_CLASSES)), roc_pr_dict[\"valid\"][\"roc_pr\"].T[1], color='blue', label='VALID')\n",
    "ax.scatter(list(range(NUM_CLASSES)), roc_pr_dict[\"test\"][\"roc_pr\"].T[1], color='gray', label='TEST')\n",
    "ax.set_ylim([0, 1.1])\n",
    "_ = plt.xticks(range(len(selected_classes)),range(1,len(selected_classes)+1))"
   ]
  }
 ],
 "metadata": {
  "kernelspec": {
   "display_name": "Python 3 (ipykernel)",
   "language": "python",
   "name": "python3"
  },
  "language_info": {
   "codemirror_mode": {
    "name": "ipython",
    "version": 3
   },
   "file_extension": ".py",
   "mimetype": "text/x-python",
   "name": "python",
   "nbconvert_exporter": "python",
   "pygments_lexer": "ipython3",
   "version": "3.9.2"
  }
 },
 "nbformat": 4,
 "nbformat_minor": 4
}
