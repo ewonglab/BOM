{
 "cells": [
  {
   "cell_type": "markdown",
   "id": "6c35556f-c94e-4294-b62e-1b4c84d97ab8",
   "metadata": {},
   "source": [
    "# Bag-of-Motifs tutorial for binary classification\n",
    "\n",
    "For this tutorial we are going to train binary a model to predict mouse cardiomyocyte specific candidate regulatory elements (CRE) from background CRE from other 16 cell types. For this, we will use the snATAC-seq data from Pijuan-Sala et al 2020 [1].\n",
    "\n",
    "snATAC-seq peaks were annotated to cell types based on their differential accessibility compared to other cell types, as defined using an exact Fisher's test based methodology. The reference genome of these peaks is mm10.\n",
    "\n",
    "**Please set your working directory here!**"
   ]
  },
  {
   "cell_type": "code",
   "execution_count": 3,
   "id": "714d1704-6458-412d-8fcb-126ac952217a",
   "metadata": {
    "tags": [],
    "vscode": {
     "languageId": "r"
    }
   },
   "outputs": [],
   "source": [
    "working_path <- '/g/data/zk16/xzhang/BOM/Tutorial/'"
   ]
  },
  {
   "cell_type": "markdown",
   "id": "c18e0044-2e53-4ddd-b9a9-e88478bb5a2e",
   "metadata": {},
   "source": [
    "### Step 1_ Data process  \n",
    "\n",
    "The data resources can be downloaded from the github (also provided in Supplementary Table 6).\n",
    "\n",
    "The cell type annotation is indicated in the column \"celltype_specificity\". Note that some snATAC-seq peaks were annotated to multiple cell types. "
   ]
  },
  {
   "cell_type": "markdown",
   "id": "66ecceba-75fd-4d31-bc60-5796908054ca",
   "metadata": {
    "tags": []
   },
   "source": [
    "**?? Consider whether wrap this into the later script file, or create one to include this cell.**"
   ]
  },
  {
   "cell_type": "code",
   "execution_count": 43,
   "id": "c77775e5-e148-41e5-a7c6-ffc443523699",
   "metadata": {
    "tags": [],
    "vscode": {
     "languageId": "r"
    }
   },
   "outputs": [],
   "source": [
    "filename <- paste(working_path, 'Pijuan_etal_table_S6.csv', sep = \"\")\n",
    "\n",
    "# load snATAC data\n",
    "mouseE8.25 <- read.csv(file = filename, header = T, stringsAsFactors = F)\n",
    "\n",
    "# removing all the peaks that were not annotated to a cell type\n",
    "mouseE8.25 <- mouseE8.25[!is.na(mouseE8.25$celltype_specificity),]\n",
    "\n",
    "# only the peaks annotated to a single cell type\n",
    "mouseE8.25 <- mouseE8.25[!grepl(pattern = \";\", x = mouseE8.25$celltype_specificity),]\n",
    "\n",
    "# remove any duplicated peaks (only keep the peak coordinates and cell type annotation)\n",
    "mouseE8.25 <- unique(mouseE8.25[,c(\"peak_chr\", \"peak_start\", \"peak_end\", \"celltype_specificity\")])\n",
    "\n",
    "# have a look at the number of peaks annotated to each cell type\n",
    "# as.data.frame(table(mouseE8.25$celltype_specificity))\n",
    "\n",
    "suppressMessages(library(GenomicRanges))\n",
    "mouseE8.25_gr <- with(mouseE8.25, GRanges(peak_chr, IRanges(peak_start+1, peak_end)))\n",
    "mouseE8.25_gr <- sort(mouseE8.25_gr)\n",
    "\n",
    "# Make sure peaks don't overlap with others\n",
    "# x <- as.data.frame(GenomicRanges::findOverlaps(mouseE8.25_gr, mouseE8.25_gr))\n",
    "# x[x$queryHits != x$subjectHits,]\n",
    "\n",
    "# Save processed peak into a bed file\n",
    "output_file <- paste(working_path, 'mouseE8.25_peaks.bed', sep = \"\")\n",
    "write.table(x = mouseE8.25, file = output_file, col.names = F, row.names = F, quote = F, sep = '\\t')"
   ]
  },
  {
   "cell_type": "markdown",
   "id": "a4de0d2f-1979-4faa-809f-63d4191e7b11",
   "metadata": {},
   "source": [
    "Have a look the processed peak data "
   ]
  },
  {
   "cell_type": "code",
   "execution_count": 14,
   "id": "a9eb8b5f-8ea6-4042-83ed-edcc6546d642",
   "metadata": {
    "tags": [],
    "vscode": {
     "languageId": "r"
    }
   },
   "outputs": [],
   "source": [
    "# head(mouseE8.25,4)"
   ]
  },
  {
   "cell_type": "markdown",
   "id": "bc64a0e2-0332-4460-94ae-596d2aafe41e",
   "metadata": {
    "tags": []
   },
   "source": [
    "### Step 2_ Peak filter\n"
   ]
  },
  {
   "cell_type": "markdown",
   "id": "fb532d91-f1d9-4fdf-9946-968e236aa30c",
   "metadata": {},
   "source": [
    "we will use the script \"filter_CREs.R\" to filter the peaks. With the script, you can carry out multiple tasks.\n",
    "\n",
    "e.g. \n",
    "- keeping only regions that are proximal to a transcription start site (TSS)\n",
    "- keeping only regions located distally\n",
    "- remove any regions overlapping exons\n",
    "- adjust the width of the regions to ensure concistency. \n",
    "\n",
    "Use '--help' to display all the options.\n",
    "\n",
    "``` Rscript filter_CREs.R --help ```\n",
    "\n",
    "Required arguments:\n",
    "- '--input_bed' : provide peak data in .bed format.\n",
    "- '--annot'     : provide a genome annotation file (*.gtf).\n",
    "- '--chr_sizes' : provide a genome size file.\n",
    "- '--out_bed'   : provide a output filename.\n",
    "\n",
    "\n",
    "**In this tutorial**, we are going to remove the peaks located within 1kb from a TSS and the peaks overlapping exons and then adjust the width of the peaks to 500bp, by running the below command in the terminal\n",
    "\n",
    "```\n",
    "Rscript filter_CREs.R --input_bed=mouseE8.25_peaks.bed --annot=/g/data/zk16/cc3704/mouse_data/Mus_musculus.GRCm38.92.gtf \\\n",
    "--remove_proximal=True --non_exonic=True --u=1000 --d=1000 --nbp=500 --chr_sizes=/g/data/zk16/cc3704/mouse_data/mouse_sizes_primary_genome_tab.txt \\\n",
    "--out_bed=mouseE8.25_peaks_filt.bed\n",
    "```\n",
    "\n",
    "> In this case, we set '--remove_proximal' and '--non_exonic' to 'True' to remove peaks proximal to a TSS and exonic peaks, respectively. \n",
    "\n",
    "> Set '--u' and '--d' to 1000 to denote the number of base pairs upstream and downstream of a TSS for the definition of proximal regions. \n",
    "\n",
    "> Use '--nbp' to set the final width of the peaks to be all 500bp (--nbp=500), the script will trim or extend the peaks from their centre to the specified width."
   ]
  },
  {
   "cell_type": "code",
   "execution_count": null,
   "id": "f04d7f7d-b08d-4272-92a8-cd6fc185afa4",
   "metadata": {
    "vscode": {
     "languageId": "r"
    }
   },
   "outputs": [
    {
     "name": "stdout",
     "output_type": "stream",
     "text": [
      "Loading packages...\n",
      "Possible Ensembl SSL connectivity problems detected.\n",
      "Please see the 'Connection Troubleshooting' section of the biomaRt vignette\n",
      "vignette('accessing_ensembl', package = 'biomaRt')Error in curl::curl_fetch_memory(url, handle = handle) : \n",
      "  SSL certificate problem: certificate has expired\n",
      "\n",
      "\u001b[?25h\u001b[?25hReading CREs...\n",
      "\u001b[?25h\u001b[?25h\u001b[?25hReading genome annotation...\n",
      "Import genomic features from the file as a GRanges object ... OK\n",
      "Prepare the 'metadata' data frame ... OK\n",
      "Make the TxDb object ... OK\n",
      "Removing exonic regions...\n",
      "Removing proximal regions to TSSs...\n",
      "Warning message:\n",
      "In .get_cds_IDX(mcols0$type, mcols0$phase) :\n",
      "  The \"phase\" metadata column contains non-NA values for features of type\n",
      "  stop_codon. This information was ignored.\n",
      "\u001b[?25hReading chromosome sizes...\n",
      "Adjusting CRE length...\n",
      "\u001b[?25hSaving CREs...\n",
      "\u001b[?25h\u001b[?25h\u001b[?25hDone\n",
      "\u001b[?25h\u001b[?25h"
     ]
    }
   ],
   "source": [
    "# Execute in the terminal and modify to your own file path \n",
    "Rscript filter_CREs.R \\\n",
    "--input_bed=/g/data/zk16/xzhang/BOM/Tutorial/mouseE8.25_peaks.bed \\ \n",
    "--annot=/g/data/zk16/cc3704/mouse_data/Mus_musculus.GRCm38.92.gtf \\\n",
    "--remove_proximal=True --non_exonic=True --u=1000 --d=1000 --nbp=500 \\\n",
    "--chr_sizes=/g/data/zk16/cc3704/mouse_data/mouse_sizes_primary_genome_tab.txt \\\n",
    "--out_bed=/g/data/zk16/xzhang/BOM/Tutorial/mouseE8.25_peaks_filt.bed\n"
   ]
  },
  {
   "cell_type": "markdown",
   "id": "b0d5fc67-c3cd-4538-b0d7-b40579fe5e45",
   "metadata": {},
   "source": [
    "Now, we can have a look the number of CRE remaining per cell type after filtering."
   ]
  },
  {
   "cell_type": "code",
   "execution_count": 11,
   "id": "1ef3ddcd-9b03-4303-95e7-253920da4dd4",
   "metadata": {
    "tags": [],
    "vscode": {
     "languageId": "r"
    }
   },
   "outputs": [
    {
     "data": {
      "text/html": [
       "<table class=\"dataframe\">\n",
       "<caption>A data.frame: 3 × 4</caption>\n",
       "<thead>\n",
       "\t<tr><th></th><th scope=col>V1</th><th scope=col>V2</th><th scope=col>V3</th><th scope=col>V4</th></tr>\n",
       "\t<tr><th></th><th scope=col>&lt;chr&gt;</th><th scope=col>&lt;int&gt;</th><th scope=col>&lt;int&gt;</th><th scope=col>&lt;chr&gt;</th></tr>\n",
       "</thead>\n",
       "<tbody>\n",
       "\t<tr><th scope=row>1</th><td>10</td><td>100039699</td><td>100040199</td><td>Pharyngeal_mesoderm</td></tr>\n",
       "\t<tr><th scope=row>2</th><td>10</td><td>100128203</td><td>100128703</td><td>Forebrain          </td></tr>\n",
       "\t<tr><th scope=row>3</th><td>10</td><td>100164375</td><td>100164875</td><td>Gut                </td></tr>\n",
       "</tbody>\n",
       "</table>\n"
      ],
      "text/latex": [
       "A data.frame: 3 × 4\n",
       "\\begin{tabular}{r|llll}\n",
       "  & V1 & V2 & V3 & V4\\\\\n",
       "  & <chr> & <int> & <int> & <chr>\\\\\n",
       "\\hline\n",
       "\t1 & 10 & 100039699 & 100040199 & Pharyngeal\\_mesoderm\\\\\n",
       "\t2 & 10 & 100128203 & 100128703 & Forebrain          \\\\\n",
       "\t3 & 10 & 100164375 & 100164875 & Gut                \\\\\n",
       "\\end{tabular}\n"
      ],
      "text/markdown": [
       "\n",
       "A data.frame: 3 × 4\n",
       "\n",
       "| <!--/--> | V1 &lt;chr&gt; | V2 &lt;int&gt; | V3 &lt;int&gt; | V4 &lt;chr&gt; |\n",
       "|---|---|---|---|---|\n",
       "| 1 | 10 | 100039699 | 100040199 | Pharyngeal_mesoderm |\n",
       "| 2 | 10 | 100128203 | 100128703 | Forebrain           |\n",
       "| 3 | 10 | 100164375 | 100164875 | Gut                 |\n",
       "\n"
      ],
      "text/plain": [
       "  V1 V2        V3        V4                 \n",
       "1 10 100039699 100040199 Pharyngeal_mesoderm\n",
       "2 10 100128203 100128703 Forebrain          \n",
       "3 10 100164375 100164875 Gut                "
      ]
     },
     "metadata": {},
     "output_type": "display_data"
    }
   ],
   "source": [
    "filtered_peak_file <- paste(working_path, 'mouseE8.25_peaks_filt.bed', sep = \"\")\n",
    "filtered <- read.table(file = filtered_peak_file, header=F, stringsAsFactors=F, sep ='\\t')\n",
    "\n",
    "# remove the unclear defined cell-types\n",
    "filtered$V4 <- sub(\"/\", \"_\", filtered$V4)\n",
    "filtered$V4 <- sub(\" \", \"_\", filtered$V4)\n",
    "\n",
    "filtered <- filtered[!filtered$V4 %in% c(\"Notochord\", \"Ubiquitous\"),]\n",
    "\n",
    "for(i in unique(filtered$V4))\n",
    "{\n",
    "  write.table(x = filtered[filtered$V4 == i, ], file = paste0(working_path,\"bed_files/\", i, \".bed\"), quote = F, col.names = F, row.names = F, sep ='\\t')\n",
    "}\n",
    "\n",
    "head(filtered, 3)"
   ]
  },
  {
   "cell_type": "markdown",
   "id": "3ba2b6e3-20aa-489b-95e5-d2c3dd3395f4",
   "metadata": {},
   "source": [
    "Finally, show statistics of cell-type annotation."
   ]
  },
  {
   "cell_type": "code",
   "execution_count": 12,
   "id": "7547dc2f-e7c0-43a0-baee-1a59fa770939",
   "metadata": {
    "tags": [],
    "vscode": {
     "languageId": "r"
    }
   },
   "outputs": [],
   "source": [
    "# display in 2*17 \n",
    "# as.data.frame(table(filtered$V4))"
   ]
  },
  {
   "cell_type": "markdown",
   "id": "8fdf82a1-404a-4150-8904-127a4b35f0ba",
   "metadata": {
    "tags": []
   },
   "source": [
    "### Step_3 Motif Searching"
   ]
  },
  {
   "cell_type": "markdown",
   "id": "71a2a8b9-1e4d-4efd-aa84-d4396eca1420",
   "metadata": {},
   "source": [
    "In this step, we will look for TF binding motif instances in the CRE, by using **run_fimo.sh** script.\n",
    "\n",
    "To run 'run_fimo.sh', you need provide below arguments.\n",
    "```\n",
    "run_fimo.sh: \n",
    "Usage: args [-o] [-g] [-b] [-m] \n",
    "-m means path to motif database\n",
    "-g means path to genome reference fasta file\n",
    "-o means set a output path (Default: ./Tutorial/motifs)\n",
    "-b means path to bed file folder (Default: ./Tutorial/bed_files)\n",
    "```\n",
    "\n",
    "**Note that** this script will require to have **bedtools and fimo installed**. The vertebrate motifs from the [database GIMME Motifs](https://github.com/vanheeringen-lab/gimmemotifs) [2] are used in the tutorial. \n",
    "\n",
    "```run_fimo.sh  -m /gimme.vertebrate.v5.0.meme  -g /Mus_musculus_GRCm38.fa  -b /Tutorial/bed_files -o /Tutorial/motifs```\n",
    "> It might take around 5 minutes for a bed file with ~1000 peaks, here we will process for 17 cell types.\n",
    "\n",
    "After this step, you will get **motif search results for each cell type under output folder**."
   ]
  },
  {
   "cell_type": "markdown",
   "id": "6ed3b8c9-5ef5-49ab-86cd-9212e8d85c5a",
   "metadata": {},
   "source": [
    "### Step_4 Motif Counting\n",
    "\n",
    "In this step, the motif counts matrix will be prepared for binary classification, by running '**matrix_for_binary_model.R**' script.\n",
    "\n",
    "Use '--help' to display all the options.\n",
    "\n",
    "```Rscript filter_CREs.R --help```\n",
    "\n",
    "Required arguments:\n",
    "\n",
    "- '--input_bed' : provide peak data in .bed format.\n",
    "- '--annot' : provide a genome annotation file (*.gtf).\n",
    "- '--chr_sizes' : provide a genome size file.\n",
    "- '--out_bed' : provide a output filename."
   ]
  },
  {
   "cell_type": "code",
   "execution_count": 16,
   "id": "07ec234d-0803-4902-853f-8b36585f65ea",
   "metadata": {
    "vscode": {
     "languageId": "r"
    }
   },
   "outputs": [
    {
     "name": "stdout",
     "output_type": "stream",
     "text": [
      "\u001b[?25h\u001b[?25h\u001b[?25h\u001b[?25h\u001b[?25hUsage: Rscript matrix_for_binary_model.R [options]\n",
      "\n",
      "Options:\n",
      "  --target_ct=<target_cell_type>    Name of the target cell type\n",
      "  --data_path=<data_directory>     Path to the data directory\n",
      "  --qval_thresh=<qvalue_threshold> Q-value threshold for filtering\n",
      "  --out_filename=<output_filename> Name for the output file\n",
      "  --help                           Display this help message\n",
      "\u001b[?25h"
     ]
    }
   ],
   "source": [
    "Rscript matrix_for_binary_model.R --help"
   ]
  },
  {
   "cell_type": "markdown",
   "id": "6c52b156-6ef0-4a08-bfd7-9d44eb89df9b",
   "metadata": {},
   "source": [
    "Here, we provide a more detailed example of generating a matrix to distinguish cardiomyocyte-specific CRE from  CRE specific to other cell types. \n",
    "\n",
    "**In this case**, \n",
    "we set -target_ct=Cardiomyocytes, indicating that Cardiomyocytes CRE are the target class and set a q-value cuttoff of 0.5 to filter motif instances (parameter --qval_thresh). "
   ]
  },
  {
   "cell_type": "code",
   "execution_count": 15,
   "id": "3152655a-94ee-476b-8aec-4bee4a8859d4",
   "metadata": {
    "tags": [],
    "vscode": {
     "languageId": "r"
    }
   },
   "outputs": [],
   "source": [
    "Rscript matrix_for_binary_model.R \n",
    "--target_ct=Cardiomyocytes \\\n",
    "--data_path=./Tutorial/motifs \\\n",
    "--qval_thresh=0.5 \\\n",
    "--out_filename=Cardiomyocytes_vs_other_counts.txt"
   ]
  },
  {
   "cell_type": "markdown",
   "id": "c76c10c8-3cd6-4324-84cf-d155830156a3",
   "metadata": {},
   "source": [
    "In the output matrix, every CRE will be represented by a row and columns represent different motifs. The last 2 columns contain the cell type annotation, \"celltype\" contains the actual cell type name and \"binary_celltype\" contains the cell tipy coded as a binary, 1 represents cardiomyocyte CRE and 0 represents background CRE.\n"
   ]
  },
  {
   "cell_type": "code",
   "execution_count": 2,
   "id": "84dd95c3-ed87-44ce-b498-6b51fe024355",
   "metadata": {
    "vscode": {
     "languageId": "r"
    }
   },
   "outputs": [
    {
     "data": {
      "text/html": [
       "<table class=\"dataframe\">\n",
       "<caption>A data.frame: 6 × 8</caption>\n",
       "<thead>\n",
       "\t<tr><th></th><th scope=col>GM.5.0.AP.2.0001</th><th scope=col>GM.5.0.AP.2.0002</th><th scope=col>GM.5.0.AP.2.0003</th><th scope=col>GM.5.0.AP.2.0004</th><th scope=col>GM.5.0.AP.2.0005</th><th scope=col>GM.5.0.AP.2.0006</th><th scope=col>celltype</th><th scope=col>binary_celltype</th></tr>\n",
       "\t<tr><th></th><th scope=col>&lt;int&gt;</th><th scope=col>&lt;int&gt;</th><th scope=col>&lt;int&gt;</th><th scope=col>&lt;int&gt;</th><th scope=col>&lt;int&gt;</th><th scope=col>&lt;int&gt;</th><th scope=col>&lt;chr&gt;</th><th scope=col>&lt;int&gt;</th></tr>\n",
       "</thead>\n",
       "<tbody>\n",
       "\t<tr><th scope=row>10:100164375-100164875</th><td>0</td><td>0</td><td>0</td><td>0</td><td>0</td><td>0</td><td>Gut             </td><td>0</td></tr>\n",
       "\t<tr><th scope=row>10:109905996-109906496</th><td>0</td><td>0</td><td>0</td><td>0</td><td>0</td><td>0</td><td>Gut             </td><td>0</td></tr>\n",
       "\t<tr><th scope=row>10:110994762-110995262</th><td>0</td><td>0</td><td>0</td><td>0</td><td>0</td><td>0</td><td>Spinal_cord     </td><td>0</td></tr>\n",
       "\t<tr><th scope=row>10:111550213-111550713</th><td>0</td><td>0</td><td>0</td><td>0</td><td>0</td><td>0</td><td>Gut             </td><td>0</td></tr>\n",
       "\t<tr><th scope=row>10:116288025-116288525</th><td>0</td><td>0</td><td>0</td><td>1</td><td>1</td><td>0</td><td>Endothelium     </td><td>0</td></tr>\n",
       "\t<tr><th scope=row>10:117861961-117862461</th><td>0</td><td>0</td><td>0</td><td>0</td><td>0</td><td>2</td><td>Surface_ectoderm</td><td>0</td></tr>\n",
       "</tbody>\n",
       "</table>\n"
      ],
      "text/latex": [
       "A data.frame: 6 × 8\n",
       "\\begin{tabular}{r|llllllll}\n",
       "  & GM.5.0.AP.2.0001 & GM.5.0.AP.2.0002 & GM.5.0.AP.2.0003 & GM.5.0.AP.2.0004 & GM.5.0.AP.2.0005 & GM.5.0.AP.2.0006 & celltype & binary\\_celltype\\\\\n",
       "  & <int> & <int> & <int> & <int> & <int> & <int> & <chr> & <int>\\\\\n",
       "\\hline\n",
       "\t10:100164375-100164875 & 0 & 0 & 0 & 0 & 0 & 0 & Gut              & 0\\\\\n",
       "\t10:109905996-109906496 & 0 & 0 & 0 & 0 & 0 & 0 & Gut              & 0\\\\\n",
       "\t10:110994762-110995262 & 0 & 0 & 0 & 0 & 0 & 0 & Spinal\\_cord      & 0\\\\\n",
       "\t10:111550213-111550713 & 0 & 0 & 0 & 0 & 0 & 0 & Gut              & 0\\\\\n",
       "\t10:116288025-116288525 & 0 & 0 & 0 & 1 & 1 & 0 & Endothelium      & 0\\\\\n",
       "\t10:117861961-117862461 & 0 & 0 & 0 & 0 & 0 & 2 & Surface\\_ectoderm & 0\\\\\n",
       "\\end{tabular}\n"
      ],
      "text/markdown": [
       "\n",
       "A data.frame: 6 × 8\n",
       "\n",
       "| <!--/--> | GM.5.0.AP.2.0001 &lt;int&gt; | GM.5.0.AP.2.0002 &lt;int&gt; | GM.5.0.AP.2.0003 &lt;int&gt; | GM.5.0.AP.2.0004 &lt;int&gt; | GM.5.0.AP.2.0005 &lt;int&gt; | GM.5.0.AP.2.0006 &lt;int&gt; | celltype &lt;chr&gt; | binary_celltype &lt;int&gt; |\n",
       "|---|---|---|---|---|---|---|---|---|\n",
       "| 10:100164375-100164875 | 0 | 0 | 0 | 0 | 0 | 0 | Gut              | 0 |\n",
       "| 10:109905996-109906496 | 0 | 0 | 0 | 0 | 0 | 0 | Gut              | 0 |\n",
       "| 10:110994762-110995262 | 0 | 0 | 0 | 0 | 0 | 0 | Spinal_cord      | 0 |\n",
       "| 10:111550213-111550713 | 0 | 0 | 0 | 0 | 0 | 0 | Gut              | 0 |\n",
       "| 10:116288025-116288525 | 0 | 0 | 0 | 1 | 1 | 0 | Endothelium      | 0 |\n",
       "| 10:117861961-117862461 | 0 | 0 | 0 | 0 | 0 | 2 | Surface_ectoderm | 0 |\n",
       "\n"
      ],
      "text/plain": [
       "                       GM.5.0.AP.2.0001 GM.5.0.AP.2.0002 GM.5.0.AP.2.0003\n",
       "10:100164375-100164875 0                0                0               \n",
       "10:109905996-109906496 0                0                0               \n",
       "10:110994762-110995262 0                0                0               \n",
       "10:111550213-111550713 0                0                0               \n",
       "10:116288025-116288525 0                0                0               \n",
       "10:117861961-117862461 0                0                0               \n",
       "                       GM.5.0.AP.2.0004 GM.5.0.AP.2.0005 GM.5.0.AP.2.0006\n",
       "10:100164375-100164875 0                0                0               \n",
       "10:109905996-109906496 0                0                0               \n",
       "10:110994762-110995262 0                0                0               \n",
       "10:111550213-111550713 0                0                0               \n",
       "10:116288025-116288525 1                1                0               \n",
       "10:117861961-117862461 0                0                2               \n",
       "                       celltype         binary_celltype\n",
       "10:100164375-100164875 Gut              0              \n",
       "10:109905996-109906496 Gut              0              \n",
       "10:110994762-110995262 Spinal_cord      0              \n",
       "10:111550213-111550713 Gut              0              \n",
       "10:116288025-116288525 Endothelium      0              \n",
       "10:117861961-117862461 Surface_ectoderm 0              "
      ]
     },
     "metadata": {},
     "output_type": "display_data"
    }
   ],
   "source": [
    "counts <- read.table(file = \"Cardiomyocytes_vs_other_counts.txt\", header = T, stringsAsFactors = F\n",
    "                     , sep = '\\t')\n",
    "head(counts[,c(head(colnames(counts)), tail(colnames(counts), 2))])"
   ]
  },
  {
   "cell_type": "markdown",
   "id": "e726e1d7-a92c-4597-83a2-2c6995c4316b",
   "metadata": {},
   "source": [
    "## Step_5 Model Training\n",
    "\n",
    "Now, we can start model training! using **\"train_binary.R\"** script.\n",
    "\n",
    "Use '--help' to display all the options.\n",
    "\n",
    "```Rscript train_binary.R --help```\n",
    "\n",
    "**Note that** the data will be splited for training, validation and test (60%, 20% and 20% respectively). "
   ]
  },
  {
   "cell_type": "code",
   "execution_count": 2,
   "id": "ea29b1bd-0e20-492e-90d2-936c3f736da8",
   "metadata": {
    "vscode": {
     "languageId": "r"
    }
   },
   "outputs": [
    {
     "name": "stdout",
     "output_type": "stream",
     "text": [
      "\u001b[?25h\u001b[?25h\u001b[?25h\u001b[?25h\u001b[?25h\u001b[?25h\u001b[?25h\u001b[?25h\u001b[?25h\u001b[?25h\u001b[?25h\u001b[?25h\u001b[?25h\u001b[?25h\u001b[?25hUsage: Rscript training_binary.R [options]\n",
      "Options:\n",
      "--input_data=<file>\t\tPath to the input matrix of motif counts (required)\n",
      "--data=<data>\t\t\tThe training data (default: dtrain)\n",
      "--nrounds=<n>\t\t\tNumber of boosting rounds (default: 10000)\n",
      "--eta=<value>\t\t\tLearning rate (default: 0.01)\n",
      "--max_depth=<n>\t\tMaximum tree depth (default: 6)\n",
      "--subsample=<value>\t\tSubsample ratio of the training instances (default: 0.5)\n",
      "--colsample_bytree=<value>\tSubsample ratio of columns when constructing each tree (default: 0.5)\n",
      "--objective=<name>\t\tObjective function (default: binary:logistic)\n",
      "--early_stopping_rounds=<n>\tPerform early stopping if no improvement for this many rounds (default: NULL)\n",
      "--nthread=<n>\t\t\tNumber of parallel threads (default: 1)\n",
      "--eval_metric=<name>\t\tEvaluation metric (default: error)\n",
      "--maximize=<bool>\t\tWhether to maximize the evaluation metric (default: FALSE)\n",
      "--save_period=<n>\t\tSave the model for every given number of rounds (default: NULL)\n",
      "--save_name=<file>\t\tName of the saved model file (default: xgboost.model)\n",
      "--feval=<file>\t\tCustomized evaluation metric (default: NULL)\n",
      "--Verbose=<file>\t\tHow much details on the progress to print (default: 1)\n",
      "--print_every_n=<file>\t\tPrint evaluation messages each n-th iterations (default: 1)\n",
      "--save_name=<file>\t\tName of the saved model file (default: xgboost.model)\n",
      "--help                    Display this help message\n",
      "\n",
      "\u001b[?25h"
     ]
    }
   ],
   "source": [
    "Rscript train_binary.R --help"
   ]
  },
  {
   "cell_type": "markdown",
   "id": "df1817c6-3859-4216-bb1b-5206a0cedaeb",
   "metadata": {},
   "source": [
    "Here is a **detailed example**, we set --early_stopping_rounds as 100 to stop model training when loss does not decrease after 100 iterations.\n"
   ]
  },
  {
   "cell_type": "code",
   "execution_count": 3,
   "id": "f7d35792-9c1b-451e-832e-60512018bfb0",
   "metadata": {
    "vscode": {
     "languageId": "r"
    }
   },
   "outputs": [
    {
     "name": "stdout",
     "output_type": "stream",
     "text": [
      "\u001b[?25h\u001b[?25h\u001b[?25h\u001b[?25h\u001b[?25h\u001b[?25h\u001b[?25h\u001b[?25h\u001b[?25h\u001b[?25h\u001b[?25h\u001b[?25h\u001b[?25h\u001b[?25h\u001b[?25h\u001b[?25h\u001b[?25h\u001b[?25hReading data...\n",
      "\u001b[?25h\u001b[?25h\u001b[?25h\u001b[?25h\u001b[?25h\u001b[?25hSplitting data into training, validation and test sets...\n",
      "\u001b[?25h\u001b[?25h\u001b[?25h\u001b[?25h\u001b[?25h\u001b[?25h\u001b[?25h\u001b[?25h\u001b[?25h\u001b[?25h\u001b[?25h\u001b[?25h\u001b[?25h\u001b[?25h\u001b[?25h\u001b[?25hTraining model...\n",
      "\u001b[?25h\u001b[?25h[1]\ttrain-error:0.149182\tvalidation-error:0.195965 \n",
      "Multiple eval metrics are present. Will use validation_error for early stopping.\n",
      "Will train until validation_error hasn't improved in 100 rounds.\n",
      "\n",
      "[101]\ttrain-error:0.057748\tvalidation-error:0.072046 \n",
      "[201]\ttrain-error:0.038499\tvalidation-error:0.063401 \n",
      "[301]\ttrain-error:0.029836\tvalidation-error:0.051873 \n",
      "[401]\ttrain-error:0.014437\tvalidation-error:0.034582 \n",
      "Stopping. Best iteration:\n",
      "[395]\ttrain-error:0.014437\tvalidation-error:0.031700\n",
      "\n",
      "\u001b[?25hSaving model...\n",
      "\u001b[?25h\u001b[?25hDone\n",
      "\u001b[?25h\u001b[?25h"
     ]
    }
   ],
   "source": [
    "Rscript train_binary.R --input_data=Cardiomyocytes_vs_other_counts.txt --save_name=Cardiomyocytes_vs_other.rds --early_stopping_rounds=100 --print_every_n=100 --nthread=4"
   ]
  },
  {
   "cell_type": "markdown",
   "id": "601cc041-0b4d-40b7-a17e-7ada28bb455a",
   "metadata": {},
   "source": [
    "## Step_6 Model Predicting\n",
    "\n",
    "Now, we use trained model to predict on the test set, by using **\"predict_binary.R\"** script. \n",
    "\n",
    "Use '--help' to display all the options.\n",
    "\n",
    "```Rscript predict_binary.R --help```\n",
    "\n",
    "**Note that** if we provide a file name to the argument --training_set we will save that training data which we will use for the interpretation of the model."
   ]
  },
  {
   "cell_type": "code",
   "execution_count": 8,
   "id": "3607ace1-9731-4468-a42f-292c8ae56860",
   "metadata": {
    "vscode": {
     "languageId": "r"
    }
   },
   "outputs": [
    {
     "name": "stdout",
     "output_type": "stream",
     "text": [
      "\u001b[?25h\u001b[?25h\u001b[?25h\u001b[?25h\u001b[?25hUsage: Rscript xgboost_predictions.R [parameters]\n",
      "\n",
      "Parameters:\n",
      "--input_data=<file>       Path to the input data file\n",
      "--xgb_model=<file>        Path to the xgboost model file\n",
      "--predictions=<file>      Path to save the predicted values\n",
      "--training_set=<file>     Path to save the training set (optional)\n",
      "--help                    Display this help message\n",
      "\n",
      "\u001b[?25h"
     ]
    }
   ],
   "source": [
    "Rscript predict_binary.R --help"
   ]
  },
  {
   "cell_type": "code",
   "execution_count": 4,
   "id": "b33f340f-d97d-4b4f-9544-b13012993aa6",
   "metadata": {
    "vscode": {
     "languageId": "r"
    }
   },
   "outputs": [
    {
     "name": "stdout",
     "output_type": "stream",
     "text": [
      "\u001b[?25h\u001b[?25h\u001b[?25h\u001b[?25h\u001b[?25h\u001b[?25h\u001b[?25hReading model...\n",
      "\u001b[?25h\u001b[?25h[1] TRUE\n",
      "\u001b[?25hBest tree: 395 \n",
      "\u001b[?25hReading data...\n",
      "\u001b[?25h\u001b[?25h\u001b[?25h\u001b[?25h\u001b[?25h\u001b[?25h\u001b[?25h\u001b[?25h\u001b[?25h\u001b[?25h\u001b[?25h\u001b[?25h\u001b[?25h\u001b[?25h\u001b[?25h\u001b[?25hSaving training set...\n",
      "\u001b[?25h\u001b[?25h\u001b[?25h\u001b[?25h\u001b[?25h\u001b[?25h\u001b[?25h\u001b[?25h\u001b[?25h\u001b[?25h\u001b[?25hSaving predicted values...\n",
      "\u001b[?25h\u001b[?25hDone\n",
      "\u001b[?25h\u001b[?25htrue_class predicted_class prob\n",
      "10:100164375-100164875 0 0 0.0236886981874704\n",
      "10:110994762-110995262 0 1 0.6538205742836\n",
      "10:111550213-111550713 0 0 0.23369137942791\n",
      "10:35328514-35329014 0 0 0.054384171962738\n",
      "10:35452130-35452630 0 0 0.0358559265732765\n",
      "10:60165918-60166418 0 0 0.0504816211760044\n",
      "10:84477610-84478110 0 0 0.13245040178299\n",
      "11:109350049-109350549 0 0 0.113616354763508\n",
      "11:112978777-112979277 0 0 0.0942301899194717\n"
     ]
    }
   ],
   "source": [
    "Rscript predict_binary.R --input_data=Cardiomyocytes_vs_other_counts.txt --xgb_model=Cardiomyocytes_vs_other.rds --training_set=Cardiomyocytes_vs_other_train.txt --pred=Cardiomyocytes_vs_other_pred.txt\n",
    "\n",
    "head Cardiomyocytes_vs_other_pred.txt\n"
   ]
  },
  {
   "cell_type": "markdown",
   "id": "4150d0f2-7e03-4c05-81d3-38bfce7d9819",
   "metadata": {},
   "source": [
    "The output file contains 3 columns. The first column indicates the true class of the CRE, 1 representing cardiomyocyte CRE and 0 representing background CRE. The second column represents the predicted classes coded as a binary with a threshold of > 0.5. The last column represents the predicted probability by the model. We can use these values to calculate some metrics of performance. \n",
    "\n",
    "By executing the following script, we will get values for the area under the Receiver Operating Characteristic (ROC) curve (auROC), area under the precision/recall curve (auPR), accuracy, F1 score, recall and precision. A ROC curve represents the relationship between sensitivity and specificity of the predictions across multiple decision thresholds. A precision/recall curve represents the relationship between precision and recall.\n"
   ]
  },
  {
   "cell_type": "code",
   "execution_count": 5,
   "id": "5849b101-1f87-44c9-99bf-cec20aa1c837",
   "metadata": {
    "vscode": {
     "languageId": "r"
    }
   },
   "outputs": [
    {
     "name": "stdout",
     "output_type": "stream",
     "text": [
      "Loading packages...\n",
      "\u001b[?25h[1] \"Cardiomyocytes_vs_other_pred.txt\"\n",
      "\u001b[?25h\u001b[?25h\u001b[?25h\u001b[?25h\u001b[?25h\u001b[?25h\u001b[?25h\u001b[?25h\u001b[?25h\u001b[?25h\u001b[?25hauROC: 0.9938 \n",
      "\u001b[?25hauPR: 0.9943 \n",
      "\u001b[?25hAccuracy: 0.9597 \n",
      "\u001b[?25hF1 score: 0.96 \n",
      "\u001b[?25hRecall: 0.96 \n",
      "\u001b[?25hPrecision: 0.96 \n",
      "\u001b[?25h\u001b[?25h"
     ]
    }
   ],
   "source": [
    "Rscript binary_stats.R --input_file=Cardiomyocytes_vs_other_pred.txt"
   ]
  },
  {
   "cell_type": "markdown",
   "id": "c6873d8d-020e-404f-a65c-cdc1d572f309",
   "metadata": {},
   "source": [
    "## Step_7 Prediction visualization\n",
    "\n",
    "The prediction metrics give us a good idea of the performance of the model but we can also visualize the predictions. We can, for instance, produce a ROC or PR curve. \n"
   ]
  },
  {
   "cell_type": "code",
   "execution_count": null,
   "id": "07269ddf-1b96-418f-8694-090db188af59",
   "metadata": {
    "vscode": {
     "languageId": "r"
    }
   },
   "outputs": [],
   "source": [
    "?? maybe just display ROC and PR curve here is enough"
   ]
  },
  {
   "cell_type": "code",
   "execution_count": 2,
   "id": "a2826a4d-623e-4201-ab9b-7ef23d24d258",
   "metadata": {
    "vscode": {
     "languageId": "r"
    }
   },
   "outputs": [
    {
     "name": "stderr",
     "output_type": "stream",
     "text": [
      "Setting levels: control = 0, case = 1\n",
      "\n"
     ]
    },
    {
     "data": {
      "image/png": "[encoded data removed]",
      "text/plain": [
       "plot without title"
      ]
     },
     "metadata": {
      "image/png": {
       "height": 420,
       "width": 420
      }
     },
     "output_type": "display_data"
    }
   ],
   "source": [
    "suppressMessages(library(cvAUC))\n",
    "suppressMessages(library(pROC))\n",
    "suppressMessages(library(ggplot2))\n",
    "\n",
    "pred_tab <- read.table(file = \"Cardiomyocytes_vs_other_pred.txt\", header = T, stringsAsFactors = F)\n",
    "roc_pred_tab <- roc(pred_tab$true_class, pred_tab$prob, direction=\"<\")\n",
    "rocs.list <- list(roc_pred_tab)\n",
    "# Plot ROC curves\n",
    "p <- ggroc(rocs.list, size = 1) + theme(panel.border = element_blank(), panel.grid.major = element_blank()\n",
    "                                        , panel.grid.minor = element_blank()#legend.position=\"none\" \n",
    "                                        , axis.line = element_line(colour = \"black\", size = 1)\n",
    "                                        , legend.title = element_blank()\n",
    "                                        , legend.key=element_blank()\n",
    "                                        , legend.position = \"none\"\n",
    "                                        , legend.key.width = unit(1.5,\"cm\")\n",
    "                                        , panel.background = element_blank()\n",
    "                                        , text = element_text(size=23)\n",
    "                                        , axis.text.x=element_text(colour=\"black\")\n",
    "                                        , axis.text.y=element_text(colour=\"black\")\n",
    "                                        , legend.text=element_text(size=24)\n",
    "                                        , axis.ticks = element_line(colour = \"black\")) +\n",
    "  guides(linetype = guide_legend(override.aes = list(size = 3))) +\n",
    "  geom_abline(slope=1, intercept = 1, linetype = \"dashed\", alpha=0.8, color = \"grey\") + coord_equal() +\n",
    "  scale_colour_manual(values=c(\"#B39EB5\"), aesthetics = c(\"colour\", \"fill\")) +\n",
    "  labs(y= \"Sensitivity\", x = \"Specificity\")\n",
    "\n",
    "p"
   ]
  },
  {
   "cell_type": "code",
   "execution_count": 3,
   "id": "4ea42797-bc09-4849-9aeb-f756e0bdd3c4",
   "metadata": {
    "vscode": {
     "languageId": "r"
    }
   },
   "outputs": [
    {
     "data": {
      "image/png": "[encoded data removed]",
      "text/plain": [
       "plot without title"
      ]
     },
     "metadata": {
      "image/png": {
       "height": 420,
       "width": 420
      }
     },
     "output_type": "display_data"
    }
   ],
   "source": [
    "suppressMessages(library(\"yardstick\"))\n",
    "suppressMessages(library(\"cvAUC\"))\n",
    "suppressMessages(library(pROC))\n",
    "suppressMessages(library(ggplot2))\n",
    "\n",
    "pred_tab <- read.table(file = \"Cardiomyocytes_vs_other_pred.txt\", header = T, stringsAsFactors = F)\n",
    "\n",
    "pred_tab$true_class <- factor(pred_tab$true_class, levels=c(0,1))  \n",
    "curve <- pr_curve(pred_tab, truth=true_class, prob, event_level=\"second\")\n",
    "\n",
    "my_theme <-  theme(panel.border = element_blank(), panel.grid.major = element_blank()\n",
    "                   , panel.grid.minor = element_blank()#legend.position=\"none\"\n",
    "                   , axis.line = element_line(colour = \"black\", size = 1)\n",
    "                   , legend.title = element_blank()\n",
    "                   , legend.key=element_blank()\n",
    "                   , legend.position = c(0.75, 0.25)\n",
    "                   , legend.key.width = unit(1,\"cm\")\n",
    "                   , panel.background = element_blank()\n",
    "                   , legend.text=element_text(size=15)\n",
    "                   , text = element_text(size=20)\n",
    "                   , axis.text.x=element_text(colour=\"black\")\n",
    "                   , axis.text.y=element_text(colour=\"black\")\n",
    "                   , axis.ticks = element_line(colour = \"black\"))\n",
    "\n",
    "p <- ggplot(curve, aes(x = recall, y = precision)) +\n",
    "  geom_path(color=\"#B39EB5\", size = 1) +   my_theme +\n",
    "  labs(y= \"Precision\", x = \"Recall\") + coord_equal()\n",
    "#  scale_colour_manual(values=) + #, aesthetics = c(\"colour\", \"fill\"))\n",
    "\n",
    "p\n"
   ]
  },
  {
   "cell_type": "markdown",
   "id": "a7c17567-25cf-46b1-93d8-03ca4df2342b",
   "metadata": {},
   "source": [
    "### References\n",
    "\n",
    "1. Pijuan-Sala, B., Wilson, N. K., Xia, J., Hou, X., Hannah, R. L., Kinston, S., ... & Göttgens, B. (2020). Single-cell chromatin accessibility maps reveal regulatory programs driving early mouse organogenesis. Nature cell biology, 22(4), 487-497.\n",
    "2. Bruse, N., & Heeringen, S. J. V. (2018). GimmeMotifs: an analysis framework for transcription factor motif analysis. BioRxiv, 474403.\n",
    "3. Charles E. Grant, Timothy L. Bailey and William Stafford Noble, \"FIMO: Scanning for occurrences of a given motif\", Bioinformatics 27(7):1017-1018, 2011. [full text]\n",
    "4. Quinlan, A. R., & Hall, I. M. (2010). BEDTools: a flexible suite of utilities for comparing genomic features. Bioinformatics, 26(6), 841-842.\n",
    "5. Lundberg, S. M., Erion, G., Chen, H., DeGrave, A., Prutkin, J. M., Nair, B., ... & Lee, S. I. (2020). From local explanations to global understanding with explainable AI for trees. Nature machine intelligence, 2(1), 56-67."
   ]
  }
 ],
 "metadata": {
  "kernelspec": {
   "display_name": "R",
   "language": "R",
   "name": "ir"
  },
  "language_info": {
   "codemirror_mode": "r",
   "file_extension": ".r",
   "mimetype": "text/x-r-source",
   "name": "R",
   "pygments_lexer": "r",
   "version": "4.0.0"
  }
 },
 "nbformat": 4,
 "nbformat_minor": 5
}
